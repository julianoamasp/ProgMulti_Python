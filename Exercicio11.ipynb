{
 "cells": [
  {
   "cell_type": "markdown",
   "metadata": {},
   "source": [
    "### Exercício 11\n",
    "**Nome:** Juliano da Silva Mendes<br>\n",
    "**RA:** 8162257748"
   ]
  },
  {
   "cell_type": "markdown",
   "metadata": {},
   "source": [
    "**1 Menor de dois pares:** Escreva uma função que retorne o menor de dois números\n",
    "dados se ambos os números forem pares, mas retorna o maior se um dos dois for\n",
    "ímpar. Exemplo:\n",
    "menor_de_dois_pares(2,4) --> 2\n",
    "menor_de_dois_pares (2,5) --> 5"
   ]
  },
  {
   "cell_type": "code",
   "execution_count": 2,
   "metadata": {},
   "outputs": [
    {
     "name": "stdout",
     "output_type": "stream",
     "text": [
      "4\n"
     ]
    }
   ],
   "source": [
    "def calcular(num1: int, num2:int) -> int:\n",
    "  if (num1 > num2 and (num1 % 2) == 0):\n",
    "    return num1\n",
    "  if (num2 > num1 and (num2 % 2) == 0):\n",
    "    return num2\n",
    "\n",
    "print(calcular(2,4))"
   ]
  },
  {
   "cell_type": "markdown",
   "metadata": {},
   "source": [
    "**2 Mesma letra:** Escreva uma função que receba uma string com duas palavras e\n",
    "retorne True se ambas palavras começarem com a mesma letra. Exemplo:\n",
    "mesma_letra('Cão covarde') -> True\n",
    "mesma_letra('Vira Lata') -> False"
   ]
  },
  {
   "cell_type": "code",
   "execution_count": 3,
   "metadata": {},
   "outputs": [
    {
     "name": "stdout",
     "output_type": "stream",
     "text": [
      "True\n"
     ]
    }
   ],
   "source": [
    "def mesma_letra(frase) -> bool:\n",
    "  palavra = frase.split(\" \")\n",
    "  return palavra[0][0] == palavra[0][0]\n",
    "\n",
    "print(mesma_letra(\"oi oi\"))"
   ]
  },
  {
   "cell_type": "markdown",
   "metadata": {},
   "source": [
    "**3 Mestre Yoda:** Dada uma sentença, a função deve retornar a sentença com as palavras na ordem reversa. Exemplo:\n",
    "mestre_yoda('Eu estou em casa') --> 'casa em estou Eu'\n",
    "mestre_yoda('Estamos prontos') --> 'prontos Estamos'"
   ]
  },
  {
   "cell_type": "code",
   "execution_count": 1,
   "metadata": {},
   "outputs": [
    {
     "name": "stdout",
     "output_type": "stream",
     "text": [
      " casa em estou Eu\n",
      " prontos Estamos\n"
     ]
    }
   ],
   "source": [
    "def mestre_yoda(s):\n",
    "    lista = s.split()[::-1]\n",
    "    s = ''\n",
    "    for i in lista:\n",
    "        s += ' ' + i\n",
    "    return s\n",
    "\n",
    "\n",
    "print(mestre_yoda('Eu estou em casa'))\n",
    "print(mestre_yoda('Estamos prontos'))"
   ]
  },
  {
   "cell_type": "markdown",
   "metadata": {},
   "source": [
    "**4 Tem 33:** Faça uma função que retorne True se, dada uma lista de inteiros, houver\n",
    "em alguma posição da lista um 3 do lado de outro 3. Exemplo:\n",
    "tem_33([1,3,3]) --> True\n",
    "tem_33([1,3,1,3]) --> False\n",
    "tem_33([3,1,3]) --> False"
   ]
  },
  {
   "cell_type": "code",
   "execution_count": 4,
   "metadata": {},
   "outputs": [
    {
     "name": "stdout",
     "output_type": "stream",
     "text": [
      "False\n"
     ]
    }
   ],
   "source": [
    "def verificar(lista)-> bool:\n",
    "  if(range(lista[1]) == range(lista[0])):\n",
    "    return True\n",
    "  else:\n",
    "    return False\n",
    "\n",
    "num = [3,2,3,2]\n",
    "print(verificar(num))\n",
    "\n"
   ]
  },
  {
   "cell_type": "markdown",
   "metadata": {},
   "source": [
    "**5 Blackjack:** Faça uma função que receba 3 inteiros entre 1 e 11. Se a soma deles for\n",
    "menor que 21, retorne o valor da soma. Se for mair do que 21 e houver um 11,\n",
    "subtraia 10 da soma antes de apresentar o resultado. Se o valor da soma passar de\n",
    "21, retorne ‘ESTOUROU’. Exemplo:\n",
    "blackjack(5,6,7) --> 18\n",
    "blackjack(9,9,9) --> 'ESTOUROU'\n",
    "blackjack(9,9,11) --> 19"
   ]
  },
  {
   "cell_type": "code",
   "execution_count": 5,
   "metadata": {},
   "outputs": [
    {
     "name": "stdout",
     "output_type": "stream",
     "text": [
      "coringa 15\n"
     ]
    }
   ],
   "source": [
    "def jack(num1:int,num2:int,num3:int):\n",
    "  tot =num1+num2+num3\n",
    "  if(tot>=21):\n",
    "    if((num1==11 or num2==11 or num3==11)<=21):\n",
    "      tot = tot - 10\n",
    "      print('coringa',tot)\n",
    "    else:\n",
    "      print('estorou')\n",
    "  else:\n",
    "    print(tot)\n",
    "\n",
    "jack(10,4,11)\n"
   ]
  },
  {
   "cell_type": "markdown",
   "metadata": {},
   "source": [
    "**6 Espião:** Escreva uma função que receba uma lista de\n",
    "inteiros e retorne True se contém um 007 em ordem, mesmo\n",
    "que não contínuo. Exemplo:\n",
    "- espiao([1,2,4,0,0,7,5]) --> True\n",
    "- espiao([1,0,2,4,0,5,7]) --> True\n",
    "- espiao([1,7,2,4,0,5,0]) --> False"
   ]
  },
  {
   "cell_type": "code",
   "execution_count": 2,
   "metadata": {},
   "outputs": [
    {
     "name": "stdout",
     "output_type": "stream",
     "text": [
      "True\n",
      "True\n",
      "False\n"
     ]
    }
   ],
   "source": [
    "def espiao(lista):\n",
    "    chave = [0,0,7]\n",
    "    ret = [False, False, False]\n",
    "    k = 0\n",
    "    for i in lista:\n",
    "        if i == chave[k]:\n",
    "            ret[k] = True\n",
    "            k += 1\n",
    "            if k >= len(chave):\n",
    "                break\n",
    "    return ret[0] and ret[1] and ret[2]\n",
    "\n",
    "print(espiao([1,2,4,0,0,7,5]))\n",
    "print(espiao([1,0,2,4,0,5,7]))\n",
    "print(espiao([1,7,2,4,0,5,0]))"
   ]
  },
  {
   "cell_type": "code",
   "execution_count": 3,
   "metadata": {},
   "outputs": [
    {
     "name": "stdout",
     "output_type": "stream",
     "text": [
      "True\n",
      "True\n",
      "False\n"
     ]
    }
   ],
   "source": [
    "def espiao1(lista):\n",
    "    chave = [0,0,7]\n",
    "    pos = 0\n",
    "    for k in chave:\n",
    "        if k in lista[pos:]:\n",
    "            pos = lista[pos:].index(k)\n",
    "            pos += 1\n",
    "        else:\n",
    "            break\n",
    "    else:\n",
    "        return True\n",
    "    return False\n",
    "\n",
    "print(espiao1([1,2,4,0,0,7,5]))\n",
    "print(espiao1([1,0,2,4,0,5,7]))\n",
    "print(espiao1([1,7,2,4,0,5,0]))"
   ]
  },
  {
   "cell_type": "markdown",
   "metadata": {},
   "source": [
    "**7 Linha:** Crie a classe Linha que tem dois atributos, coordenada1 e coordenada2.\n",
    "Cada coordenada é uma tupla que carrega duas coordenadas cartesianas (x,y) que\n",
    "denotam pontos do segmento de reta. Faça métodos que calculem o comprimento\n",
    "do segmento de reta e sua inclinação."
   ]
  },
  {
   "cell_type": "code",
   "execution_count": 6,
   "metadata": {},
   "outputs": [
    {
     "name": "stdout",
     "output_type": "stream",
     "text": [
      "Comprimento: 4.90\n",
      "Inclinação:  1.5\n"
     ]
    }
   ],
   "source": [
    "import math\n",
    "class Linha:\n",
    "  def __init__(self, c1, c2):\n",
    "    self.coordenada1 = c1\n",
    "    self.coordenada2 = c2\n",
    "  \n",
    "  def comprimento(self):\n",
    "      return math.sqrt((self.coordenada2[0] - self.coordenada1[0])**2 + (self.coordenada2[1] ))\n",
    "\n",
    "  def inclinacao(self):\n",
    "      return (self.coordenada2[1] - self.coordenada1[1]) / (self.coordenada2[0] - self.coordenada1[0])\n",
    "\n",
    "linha = Linha((3, 2), (7, 8))\n",
    "print('Comprimento: %.2f' %linha.comprimento())\n",
    "print('Inclinação: ',linha.inclinacao())\n"
   ]
  },
  {
   "cell_type": "markdown",
   "metadata": {},
   "source": [
    "**8 Figuras:** Crie a seguinte hierarquia de classes de figuras geométricas. Veja na figura\n",
    "as fórmulas:\n",
    "1. A classe abstrata Figura deve ter o método abstrato area.\n",
    "2. A classe concreta Circulo é subclasse de Figura.\n",
    "3. A classe abstrata Poligono é subclasse de Figura e deve ter os atributos base e altura .\n",
    "4. As classes concretas Triangulo, Losango, Retangulo e Quadrado são subclasses de Poligono. Tente criar mais uma generalização aqui olhando as fórmulas da área.\n",
    "5. Os polígonos Retangulo e Quadrado devem implementar a interface Diagonal, que deve ter um método que calcula a diagonal.\n",
    "6. Crie uma classe Geometria com uma lista de Figuras com pelo menos uma figura de cada e imprima suas áreas, perímetros e diagonais.\n",
    "<table>\n",
    "  <tr>\n",
    "    <td><img src=\"areas.png\" width=\"320\"></td>\n",
    "    <td><img src=\"diagonal.png\" width=\"320\"></td>\n",
    "  </tr>\n",
    "</table>\n"
   ]
  },
  {
   "cell_type": "code",
   "execution_count": 59,
   "metadata": {},
   "outputs": [],
   "source": [
    "class Figura:\n",
    "    def area(self):\n",
    "        raise NotImplementedError(\n",
    "            \"A subclasse deve implementar o método abstrato\")\n",
    "    def perimetro(self):\n",
    "        raise NotImplementedError(\n",
    "            \"A subclasse deve implementar o método abstrato\")"
   ]
  },
  {
   "cell_type": "code",
   "execution_count": 60,
   "metadata": {},
   "outputs": [
    {
     "name": "stdout",
     "output_type": "stream",
     "text": [
      "28.274333882308138\n",
      "18.84955592153876\n"
     ]
    }
   ],
   "source": [
    "from math import pi\n",
    "class Circulo(Figura):\n",
    "    def __init__(self, raio):\n",
    "        self.raio = raio\n",
    "    def area(self):\n",
    "        return self.raio**2 * pi\n",
    "    \n",
    "    def perimetro(self):\n",
    "        return 2*pi*self.raio\n",
    "    \n",
    "    \n",
    "circulo = Circulo(3)\n",
    "print(circulo.area())\n",
    "print(circulo.perimetro())"
   ]
  },
  {
   "cell_type": "code",
   "execution_count": 61,
   "metadata": {},
   "outputs": [],
   "source": [
    "from math import sqrt\n",
    "\n",
    "class Poligono(Figura):\n",
    "    def __init__(self,base,altura):\n",
    "        self._base=base\n",
    "        self._altura=altura\n",
    "        \n",
    "    def area(self):\n",
    "        return self._base * self._altura\n",
    "\n",
    "# Python nao tem interface, então deve ser definida uma nova classe\n",
    "# Utilizar herança múltipla\n",
    "class Diagonal:\n",
    "    def __init__(self,base,altura):\n",
    "        self._base=base\n",
    "        self._altura=altura\n",
    "        \n",
    "    def diagonal(self):\n",
    "        return sqrt(self._base**2 + self._altura**2)\n",
    "    \n",
    "class Quadrilatero(Figura):\n",
    "    def __init__(self,base,altura):\n",
    "        self._base=base\n",
    "        self._altura=altura\n",
    "        \n",
    "    def perimetro(self):\n",
    "        return (self._base*2 + self._altura*2)\n",
    "        \n",
    "# Heranca múltipla. Se existirem métodos com a mesma assinatura\n",
    "# vindos das classes herdadas, será invocado pela ordem das classes\n",
    "# dentro dos parêntesis da herança\n",
    "class Quadrado(Poligono,Diagonal,Quadrilatero):\n",
    "    def __init__(self,lado):\n",
    "        Poligono.__init__(self,lado,lado)\n",
    "        Diagonal.__init__(self,lado,lado)\n",
    "        Quadrilatero.__init__(self,lado,lado)\n",
    "    \n",
    "class Retangulo(Poligono,Diagonal,Quadrilatero):\n",
    "    def __init__(self,base,altura):\n",
    "        Poligono.__init__(self,base,altura)\n",
    "        Diagonal.__init__(self,base,altura)\n",
    "        Quadrilatero.__init__(self,base,altura)\n",
    "        \n",
    "class Losango(Poligono,Quadrilatero):\n",
    "    def __init__(self,base,altura):\n",
    "        Poligono.__init__(self,base,altura)\n",
    "        Quadrilatero.__init__(self,base,altura)\n",
    "\n",
    "# como não é possível calcular o perímetro de um triângulo tendo somente\n",
    "# base e altura, triângulo será subclasse diretamente de figura e irá pedir \n",
    "# os três lados, usando o teorema de Herão para calcular a área\n",
    "class Triangulo(Figura):\n",
    "    def __init__(self,lado1,lado2,lado3):\n",
    "        if lado1>=lado2+lado3 or lado2>=lado1+lado3 or lado3>=lado1+lado2:\n",
    "            raise Eception(\"Não é um triângulo\")\n",
    "            \n",
    "        self._lado1 = lado1\n",
    "        self._lado2 = lado2\n",
    "        self._lado3 = lado3\n",
    "    \n",
    "    def perimetro(self):\n",
    "        return self._lado1 + self._lado2 + self._lado3\n",
    "    \n",
    "    def area(self):\n",
    "        s = self.perimetro()/2\n",
    "        return sqrt(s*(s-self._lado1)*(s-self._lado2)*(s-self._lado3))\n",
    "    \n",
    "class Geometria:\n",
    "    pass"
   ]
  },
  {
   "cell_type": "code",
   "execution_count": 85,
   "metadata": {},
   "outputs": [
    {
     "name": "stdout",
     "output_type": "stream",
     "text": [
      "<class '__main__.Circulo'>------------------------------------------------------------\n",
      "área: 28.27\n",
      "perímetro: 18.85\n",
      "<class '__main__.Quadrado'>------------------------------------------------------------\n",
      "área: 4.00\n",
      "perímetro: 8.00\n",
      "diagonal: 2.83\n",
      "<class '__main__.Retangulo'>------------------------------------------------------------\n",
      "área: 6.00\n",
      "perímetro: 10.00\n",
      "diagonal: 3.61\n",
      "<class '__main__.Triangulo'>------------------------------------------------------------\n",
      "área: 2.90\n",
      "perímetro: 9.00\n",
      "<class '__main__.Losango'>------------------------------------------------------------\n",
      "área: 6.00\n",
      "perímetro: 10.00\n"
     ]
    }
   ],
   "source": [
    "figuras = [Circulo(3), Quadrado(2), Retangulo(2,3), Triangulo(2,3,4), Losango(3,2)]\n",
    "for figura in figuras:\n",
    "    print(str(type(figura))+'-'*60)\n",
    "    # todo mundo sabe calcular area e perimetro\n",
    "    print('área: %.2f' % (figura.area()))\n",
    "    print('perímetro: %.2f' % (figura.perimetro()))\n",
    "    if isinstance(figura,Diagonal):\n",
    "        print('diagonal: %.2f' % (figura.diagonal()))"
   ]
  },
  {
   "cell_type": "markdown",
   "metadata": {},
   "source": [
    "**9 Jogo de Blacjack:** Faça um joguinho simples em Python.\n",
    "Aqui estão os requisitos:\n",
    "Você precisa criar um jogo de BlackJack (21) baseado em texto simples\n",
    "O jogo precisa ter um jogador contra um croupier automatizado.\n",
    "O jogador pode desistir ou bater.\n",
    "O jogador deve ser capaz de escolher o seu valor de aposta.\n",
    "Você precisa acompanhar o dinheiro total do jogador.\n",
    "Você precisa alertar o jogador de vitórias, derrotas ou estouros, etc ...\n",
    "E o mais importante:\n",
    "Você deve usar OOP e classes em alguma parte do seu jogo. Você não pode\n",
    "simplesmente usar funções no seu jogo. Use classes para ajudá-lo a definir o deck e a\n",
    "mão do jogador. Há muitas maneiras certas de fazer isso, então explore bem!"
   ]
  },
  {
   "cell_type": "code",
   "execution_count": null,
   "metadata": {},
   "outputs": [
    {
     "name": "stdout",
     "output_type": "stream",
     "text": [
      "Digite o valor da aposta20\n",
      "Seu $ 400 Adversário $ 400 partida valendo 20\n",
      "Cartas:  [10, 0, 0] pontos:  10\n",
      "1-continuar, 2-bater, 3-desistir1\n",
      "Cartas:  [10, 1, 0] pontos:  11\n",
      "1-continuar, 2-bater, 3-desistir1\n",
      "Cartas:  [10, 1, 11] pontos:  22\n",
      "cartas adversário:  [10, 1, 11] 22  pontos\n",
      "empate\n",
      "Seu $ 400 Adversário $ 400\n",
      "{'vitorias': 0, 'estouros': 0, 'derrotas': 0}\n"
     ]
    }
   ],
   "source": [
    "class jogador:\n",
    "  historico={'vitorias':0,'estouros':0,'derrotas':0}\n",
    "  cartas=[0,0,0]\n",
    "  dinheiro=0\n",
    "  aposta=0\n",
    "\n",
    "  def __init__(self, dinheiro):\n",
    "    self.dinheiro = dinheiro\n",
    "\n",
    "  def apostar(self,num)->bool:\n",
    "    if(num > self.dinheiro):\n",
    "      return False\n",
    "    else: \n",
    "      self.aposta = num\n",
    "      return True\n",
    "    \n",
    "  def derrota(self):\n",
    "    self.dinheiro -= self.aposta\n",
    "    self.aposta=0\n",
    "    self.cartas = [0,0,0]\n",
    "    self.historico['derrotas'] +=1\n",
    "\n",
    "  def vitoria(self):\n",
    "    self.dinheiro += self.aposta\n",
    "    self.aposta=0\n",
    "    self.cartas = [0,0,0]\n",
    "    self.historico['vitorias'] +=1\n",
    "\n",
    "  def estouro(self):\n",
    "    self.dinheiro -= self.aposta\n",
    "    self.aposta=0\n",
    "    self.cartas = [0,0,0]\n",
    "    self.historico['estouros'] +=1\n",
    "    \n",
    "import random\n",
    "\n",
    "def jogar():\n",
    "  rodada = int(input(\"Digite o valor da aposta\"))\n",
    "  if(rodada > player.dinheiro or rodada > player2.dinheiro):\n",
    "    print(\"Um dos jogadores não tem dinheiro suficiente\")\n",
    "  else:\n",
    "    player.aposta = rodada\n",
    "    player2.aposta = rodada\n",
    "\n",
    "  print('Seu $',player.dinheiro, 'Adversário $',player2.dinheiro, \"partida valendo\", player.aposta)\n",
    "  \n",
    "  for x in range(3):\n",
    "    player.cartas[x] = random.randint(1,11)\n",
    "    player2.cartas[x] = random.randint(1,11)\n",
    "\n",
    "    print('Cartas: ',player.cartas, 'pontos: ',sum(player.cartas))\n",
    "\n",
    "    if(x<2):\n",
    "      opc = int(input('1-continuar, 2-bater, 3-desistir'))\n",
    "      if(opc == 1):\n",
    "        continue\n",
    "      if(opc==2):\n",
    "        break\n",
    "      if(opc==3):\n",
    "        break\n",
    "\n",
    "  print('cartas adversário: ', player2.cartas, sum(player2.cartas),' pontos')\n",
    "\n",
    "  if(sum(player.cartas)==sum(player2.cartas)):\n",
    "    print('empate')\n",
    "  elif(sum(player.cartas) <= 21):\n",
    "    if(sum(player2.cartas) > sum(player.cartas)):\n",
    "      player.derrota()\n",
    "      player2.vitoria()\n",
    "      print('adversario ganhou')\n",
    "  elif(sum(player.cartas) > 21):\n",
    "    if(sum(player2.cartas) < sum(player.cartas)):\n",
    "      player.derrota()\n",
    "      player2.vitoria()\n",
    "      print('adversario ganhou')\n",
    "\n",
    "  print('Seu $',player.dinheiro, 'Adversário $',player2.dinheiro)\n",
    "  print(player.historico)\n",
    "\n",
    "  \n",
    "player = jogador(400)\n",
    "player2 = jogador(400)\n",
    "\n",
    "while(player.dinheiro > 0):\n",
    "  jogar()\n"
   ]
  },
  {
   "cell_type": "code",
   "execution_count": null,
   "metadata": {},
   "outputs": [],
   "source": []
  }
 ],
 "metadata": {
  "kernelspec": {
   "display_name": "Python 3",
   "language": "python",
   "name": "python3"
  },
  "language_info": {
   "codemirror_mode": {
    "name": "ipython",
    "version": 3
   },
   "file_extension": ".py",
   "mimetype": "text/x-python",
   "name": "python",
   "nbconvert_exporter": "python",
   "pygments_lexer": "ipython3",
   "version": "3.7.3"
  }
 },
 "nbformat": 4,
 "nbformat_minor": 2
}
