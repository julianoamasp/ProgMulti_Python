{
 "cells": [
  {
   "cell_type": "markdown",
   "metadata": {},
   "source": [
    "1 Defina a função soma_nat que recebe como argumento um número natural  n   e devolve a soma de todos os números naturais até  n. \n",
    " \n",
    "Ex: soma_nat(5) = 15 "
   ]
  },
  {
   "cell_type": "code",
   "execution_count": 1,
   "metadata": {},
   "outputs": [
    {
     "name": "stdout",
     "output_type": "stream",
     "text": [
      "Digite um número5\n"
     ]
    },
    {
     "data": {
      "text/plain": [
       "15"
      ]
     },
     "execution_count": 1,
     "metadata": {},
     "output_type": "execute_result"
    }
   ],
   "source": [
    "soma_nat = lambda n: 0 if n == 0 else n+soma_nat(n-1)\n",
    "\n",
    "x = int(input(\"Digite um número\"))\n",
    "soma_nat(x)"
   ]
  },
  {
   "cell_type": "markdown",
   "metadata": {},
   "source": [
    "2 Defina a função div que recebe como argumentos dois números naturais  m   e  n  e devolve o resultado da divisão inteira de  m  por  n. Neste exercício você não pode recorrer às operações aritméticas de multiplicação, divisão e resto da divisão inteira."
   ]
  },
  {
   "cell_type": "code",
   "execution_count": 5,
   "metadata": {},
   "outputs": [
    {
     "name": "stdout",
     "output_type": "stream",
     "text": [
      "Digite um número10\n",
      "Digite outro numero5\n",
      "2\n"
     ]
    }
   ],
   "source": [
    "div = lambda num1, num2 :  1 + div(num1 - num2, num2) if num1 >= num2 else 0\n",
    "x = int(input(\"Digite um número\"))\n",
    "y = int(input(\"Digite outro numero\"))\n",
    "\n",
    "print(div(x,y))"
   ]
  },
  {
   "cell_type": "markdown",
   "metadata": {},
   "source": [
    "3 Defina a função prim_alg que recebe como argumento um número natural e\n",
    "devolve o primeiro algarismo (o mais significativo) na representação decimal de n.\n",
    "- Ex: prim_alg(5649) = 5\n",
    "- Ex: prim_alg(7) = 7"
   ]
  },
  {
   "cell_type": "code",
   "execution_count": null,
   "metadata": {},
   "outputs": [],
   "source": [
    "prim_alg = lambda n: str(n)[0]\n",
    "print(prim_alg(5649))\n",
    "print(prim_alg(7))"
   ]
  },
  {
   "cell_type": "markdown",
   "metadata": {},
   "source": [
    "4 Defina a função prod_lista que recebe como argumento uma lista de inteiros e devolve o produto dos seus elementos. \n",
    " \n",
    "Ex: prod_lista([1,2,3,4,5,6]) = 720"
   ]
  },
  {
   "cell_type": "code",
   "execution_count": 27,
   "metadata": {},
   "outputs": [
    {
     "name": "stdout",
     "output_type": "stream",
     "text": [
      "720\n"
     ]
    }
   ],
   "source": [
    "def prod_lista(lista):\n",
    "        return lista[len(lista) - 1] * prod_lista(lista[:-1]) if len(lista) > 0 else 1\n",
    "print(prod_lista([1,2,3,4,5,6]))"
   ]
  },
  {
   "cell_type": "markdown",
   "metadata": {},
   "source": [
    "5 Defina a função contem_parQ que recebe como argumento uma lista de números inteiros  w e devolve True se w contém um número par e False em caso contrário. \n",
    " \n",
    "Ex: contem_parQ([2,3,1,2,3,4]) = True Ex: contem_parQ([1,3,5,7]) = False \n",
    " "
   ]
  },
  {
   "cell_type": "code",
   "execution_count": null,
   "metadata": {},
   "outputs": [],
   "source": [
    "contem_parQ = lambda w: False if len(w)==0 else True \\\n",
    "    if w.pop()%2==0 else contem_parQ(w)\n",
    "    \n",
    "assert(contem_parQ([2,3,1,2,3,4]) == True)\n",
    "assert(contem_parQ([1,3,5,7]) == False)"
   ]
  },
  {
   "cell_type": "markdown",
   "metadata": {},
   "source": [
    "6 Defina a função todos_imparesQ que recebe como argumento uma lista de números inteiros w e devolve True se  w contém apenas números ímpares e False em caso contrário."
   ]
  },
  {
   "cell_type": "code",
   "execution_count": 29,
   "metadata": {},
   "outputs": [
    {
     "name": "stdout",
     "output_type": "stream",
     "text": [
      "False\n"
     ]
    }
   ],
   "source": [
    "def todos_imparesQ(lista):\n",
    "        response = False\n",
    "        if len(lista) == 0 or (lista[len(lista) - 1] % 2 != 0 and todos_imparesQ(lista[:-1])):\n",
    "            response = True\n",
    "        return response\n",
    "print(todos_imparesQ([1,4,5]))"
   ]
  },
  {
   "cell_type": "markdown",
   "metadata": {},
   "source": [
    "7 Defina a função pertenceQ que recebe como argumentos uma lista de números inteiros  w  e um número inteiro  n  e devolve True se  n  ocorre em  w  e False em caso contrário."
   ]
  },
  {
   "cell_type": "code",
   "execution_count": 41,
   "metadata": {},
   "outputs": [
    {
     "name": "stdout",
     "output_type": "stream",
     "text": [
      "False\n"
     ]
    }
   ],
   "source": [
    "def pertenceQ(w,n):\n",
    "        response = False\n",
    "        if n in w:\n",
    "            response = True\n",
    "        return response\n",
    "print(pertenceQ([1,2,3,4,5],6))"
   ]
  },
  {
   "cell_type": "markdown",
   "metadata": {},
   "source": [
    "8 Defina a função junta que recebe como argumentos duas listas de números\n",
    "inteiros w1 e w2 e devolve a concatenação de w1 com w2 .\n",
    "- Ex: junta([1,2,3],[4,5,6]) = [1, 2, 3, 4, 5, 6]\n",
    "- Ex: junta([],[4,5,6]) = [4, 5, 6]\n",
    "- Ex: junta([1,2,3],[]) = [1, 2, 3]"
   ]
  },
  {
   "cell_type": "code",
   "execution_count": null,
   "metadata": {},
   "outputs": [],
   "source": [
    "junta = lambda v,w: w if len(v)==0 else v if len(w)==0 else v \\\n",
    "    if len(junta_sep(v,w))== len(w) else v"
   ]
  },
  {
   "cell_type": "code",
   "execution_count": null,
   "metadata": {},
   "outputs": [],
   "source": [
    "junta_sep = lambda v,w: [v.append(q) for q in w]\n",
    "print(junta_sep([1,2,3],[4,5,6]))"
   ]
  },
  {
   "cell_type": "code",
   "execution_count": null,
   "metadata": {},
   "outputs": [],
   "source": [
    "print(junta([1,2,3],[4,5,6]))\n",
    "print(junta([],[4,5,6]))\n",
    "print(junta([1,2,3],[]))"
   ]
  },
  {
   "cell_type": "markdown",
   "metadata": {},
   "source": [
    "9 Defina a função temPrimoQ que recebe como argumento uma lista de listas de números inteiros w e devolve True se alguma das sublistas w tem um número primo e False em caso contrário.\n",
    "-Ex: temPrimoQ([[4,4,4,4],[5,4,6,7],[2,4,3]]) = True\n",
    "-Ex: temPrimoQ([[4,4,4,4],[4,4,4],[],[4]]) = False"
   ]
  },
  {
   "cell_type": "code",
   "execution_count": null,
   "metadata": {},
   "outputs": [],
   "source": [
    "primo = lambda n: len([i for i in range(2,n) if n%i==0])==0 \n",
    "extrai_lista = lambda w: None if len(w)==0 else w.pop()\n",
    "lista_primo = lambda v: False if v == None or len(v)==0 else True if primo(v.pop()) else lista_primo(v)\n",
    "temPrimoQ = lambda w: True if lista_primo(extrai_lista(w)) else False if len(w) == 0 else temPrimoQ(w)"
   ]
  },
  {
   "cell_type": "code",
   "execution_count": null,
   "metadata": {},
   "outputs": [],
   "source": [
    "assert(temPrimoQ([[4,4,4,4],[5,4,6,7],[2,4,3]]) == True)\n",
    "assert(temPrimoQ([[4,4,4,4],[4,4,4],[],[4]]) == False)"
   ]
  },
  {
   "cell_type": "code",
   "execution_count": null,
   "metadata": {},
   "outputs": [],
   "source": [
    "print(temPrimoQ([[4,4,4,4],[5,4,6,7],[2,4,3]]))\n",
    "print(temPrimoQ([[4,4,4,4],[4,4,4],[],[4]]))\n",
    "print(temPrimoQ([[]]))\n",
    "print(temPrimoQ([[2]]))"
   ]
  },
  {
   "cell_type": "markdown",
   "metadata": {},
   "source": [
    "10 Defina a função inverteLista que recebe como argumento uma lista w e devolve a\n",
    "mesma lista mas invertida.\n",
    "- Ex: inverteLista([1,2,3,4,5]) = [5, 4, 3, 2, 1]\n",
    "- Ex: inverteLista([])"
   ]
  },
  {
   "cell_type": "code",
   "execution_count": null,
   "metadata": {},
   "outputs": [],
   "source": [
    "# função lambda recursiva\n",
    "def my_append(lista,n): \n",
    "    if lista==None: #veja explicação abaixo\n",
    "        lista=[]\n",
    "    lista.append(n)\n",
    "    return lista\n",
    "\n",
    "r_inverte_lista = lambda w,v=None: w if len(w)==0 else my_append(v, w.pop()) if len(w)==1 else r_inverte_lista(w,my_append(v,w.pop()))  \n",
    "print(r_inverte_lista([1,2,3,4,5]))\n",
    "print(r_inverte_lista([1,3,2]))\n",
    "print(r_inverte_lista([]))"
   ]
  },
  {
   "cell_type": "code",
   "execution_count": null,
   "metadata": {},
   "outputs": [],
   "source": []
  },
  {
   "cell_type": "code",
   "execution_count": null,
   "metadata": {},
   "outputs": [],
   "source": []
  }
 ],
 "metadata": {
  "kernelspec": {
   "display_name": "Python 3",
   "language": "python",
   "name": "python3"
  },
  "language_info": {
   "codemirror_mode": {
    "name": "ipython",
    "version": 3
   },
   "file_extension": ".py",
   "mimetype": "text/x-python",
   "name": "python",
   "nbconvert_exporter": "python",
   "pygments_lexer": "ipython3",
   "version": "3.7.3"
  }
 },
 "nbformat": 4,
 "nbformat_minor": 2
}
