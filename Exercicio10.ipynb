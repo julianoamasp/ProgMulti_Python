{
 "cells": [
  {
   "cell_type": "markdown",
   "metadata": {},
   "source": [
    "1. Faça um Programa que peça dois números e imprima o maior deles."
   ]
  },
  {
   "cell_type": "code",
   "execution_count": 4,
   "metadata": {},
   "outputs": [
    {
     "name": "stdout",
     "output_type": "stream",
     "text": [
      "Digite um numero4\n",
      "Digite outro numero5\n",
      "5\n"
     ]
    }
   ],
   "source": [
    "x,y = int(input(\"Digite um numero\")),int(input(\"Digite outro numero\"))\n",
    "if (x>y):\n",
    "    print(x)\n",
    "else:\n",
    "    print(y)"
   ]
  },
  {
   "cell_type": "markdown",
   "metadata": {},
   "source": [
    "2. Faça um Programa que verifique se uma letra digitada é vogal ou consoante."
   ]
  },
  {
   "cell_type": "code",
   "execution_count": 7,
   "metadata": {},
   "outputs": [
    {
     "name": "stdout",
     "output_type": "stream",
     "text": [
      "Digite uma letraa\n",
      "letra  a  é vogal\n"
     ]
    }
   ],
   "source": [
    "letras = ['a','e','i','o','u']\n",
    "x= input(\"Digite uma letra\")\n",
    "\n",
    "if (x in letras):\n",
    "  print(\"letra \",x, \" é vogal\")\n",
    "else:\n",
    "  print(\"letra \",x, \" é cosoante\")"
   ]
  },
  {
   "cell_type": "markdown",
   "metadata": {},
   "source": [
    "3. Faça um programa para a leitura de duas notas parciais de um aluno. O programa\n",
    "deve calcular a média alcançada por aluno e apresentar:\n",
    "A mensagem \"Aprovado\", se a média alcançada for maior ou igual a sete;\n",
    "A mensagem \"Reprovado\", se a média for menor do que sete;\n",
    "A mensagem \"Aprovado com Distinção\", se a média for igual a dez."
   ]
  },
  {
   "cell_type": "code",
   "execution_count": 8,
   "metadata": {},
   "outputs": [
    {
     "name": "stdout",
     "output_type": "stream",
     "text": [
      "digite a primeira nota4\n",
      "digite a segunda nota5\n",
      "Nota  4.5\n",
      "Reprovado\n"
     ]
    }
   ],
   "source": [
    "x,y=int(input(\"digite a primeira nota\")), int(input(\"digite a segunda nota\"))\n",
    "total =  (x + y) / 2\n",
    "print(\"Nota \",total)\n",
    "if (total > 7):\n",
    "  print(\"Aprovado\")\n",
    "elif (total < 7):\n",
    "  print(\"Reprovado\")\n",
    "else:\n",
    "  print(\"Aprovado com Distinção\")"
   ]
  },
  {
   "cell_type": "markdown",
   "metadata": {},
   "source": [
    "4. Faça um Programa que leia três números e mostre-os em ordem decrescente."
   ]
  },
  {
   "cell_type": "code",
   "execution_count": 12,
   "metadata": {},
   "outputs": [
    {
     "name": "stdout",
     "output_type": "stream",
     "text": [
      "digite a primeiro numer3\n",
      "digite a segundo numero7\n",
      "digite a terceiro numero5\n",
      "Ordem:  7 , 5 , 3\n"
     ]
    }
   ],
   "source": [
    "x,y,w=int(input(\"digite a primeiro numer\")), int(input(\"digite a segundo numero\")), int(input(\"digite a terceiro numero\"))\n",
    "\n",
    "if (x > y and x > w):\n",
    "  if(y > w):\n",
    "    print(\"ordem: \", x,\",\", y,\",\", w)\n",
    "  else:\n",
    "     print(\"ordem: \", x,\",\", w,\",\", y)\n",
    "elif (y > x and y > w):\n",
    "  if (x > w):\n",
    "    print(\"Ordem: \", y,\",\", x,\",\", w)\n",
    "  else:\n",
    "    print(\"Ordem: \",y,\",\", w,\",\", x)\n",
    "else:\n",
    "  if(w > y and w > x):\n",
    "    print(\"Ordem: \",w,',',x,',',y)\n",
    "  else:\n",
    "    print(\"Ordem: \",w,\",\",y,\",\",x)\n"
   ]
  },
  {
   "cell_type": "markdown",
   "metadata": {},
   "source": [
    "5. As Organizações Tabajara resolveram dar um aumento de salário aos seus\n",
    "colaboradores e lhe contrataram para desenvolver o programa que calculará os\n",
    "reajustes.\n",
    "Faça um programa que recebe o salário de um colaborador e o reajuste segundo o\n",
    "seguinte critério, baseado no salário atual:\n",
    "salários até R$ 280,00 (incluindo) : aumento de 20%\n",
    "salários entre R$ 280,00 e R$ 700,00 : aumento de 15%\n",
    "salários entre R$ 700,00 e R$ 1500,00 : aumento de 10%\n",
    "salários de R$ 1500,00 em diante : aumento de 5% Após o aumento ser realizado,\n",
    "informe na tela:\n",
    "o salário antes do reajuste;\n",
    "o percentual de aumento aplicado;\n",
    "o valor do aumento;\n",
    "o novo salário, após o aumento."
   ]
  },
  {
   "cell_type": "code",
   "execution_count": 13,
   "metadata": {},
   "outputs": [
    {
     "name": "stdout",
     "output_type": "stream",
     "text": [
      "Digite o salario1200\n",
      "o salário antes do reajuste  1200.0\n",
      "o percentual de aumento aplicado 10 %\n",
      "o valor do aumento 120.0\n",
      "o novo salário, após o aumento 1320.0\n"
     ]
    }
   ],
   "source": [
    "salario = float(input(\"Digite o salario\"))\n",
    "percentualAumento = float(0)\n",
    "aumento = float(0)\n",
    "salarioAumento = float(0)\n",
    "\n",
    "if(salario <= 280):\n",
    "  percentualAumento = 20\n",
    "  aumento = (salario / 100) * percentualAumento\n",
    "  salarioAumento = aumento + salario\n",
    "elif(salario >= 280 and salario < 700):\n",
    "  percentualAumento = 15\n",
    "  aumento = (salario / 100) * percentualAumento\n",
    "  salarioAumento = aumento + salario\n",
    "elif(salario >= 700 and salario < 1500):\n",
    "  percentualAumento = 10\n",
    "  aumento = (salario / 100) * percentualAumento\n",
    "  salarioAumento = aumento + salario\n",
    "elif(salario >= 1500):\n",
    "  percentualAumento = 5\n",
    "  aumento = (salario / 100) * percentualAumento\n",
    "  salarioAumento = aumento + salario\n",
    "\n",
    "print(\"o salário antes do reajuste \", salario)\n",
    "print(\"o percentual de aumento aplicado\", percentualAumento,\"%\")\n",
    "print(\"o valor do aumento\", aumento)\n",
    "print(\"o novo salário, após o aumento\", salarioAumento)"
   ]
  },
  {
   "cell_type": "markdown",
   "metadata": {},
   "source": [
    "6. Faça um Programa que leia um número e exiba o dia correspondente da semana.\n",
    "(1-Domingo, 2- Segunda, etc.), se digitar outro valor deve aparecer valor inválido."
   ]
  },
  {
   "cell_type": "code",
   "execution_count": 14,
   "metadata": {},
   "outputs": [
    {
     "name": "stdout",
     "output_type": "stream",
     "text": [
      "digite um numero5\n",
      "Sexta\n"
     ]
    }
   ],
   "source": [
    "dia = int(input(\"digite um numero\"))\n",
    "\n",
    "if(dia==1):\n",
    "  print(\"Segunda\")\n",
    "elif(dia==2):\n",
    "  print(\"Terça\")\n",
    "elif(dia==3):\n",
    "  print(\"Quarta\")\n",
    "elif(dia==4):\n",
    "  print(\"Quinta\")\n",
    "elif(dia==5):\n",
    "  print(\"Sexta\")\n",
    "elif(dia==6):\n",
    "  print(\"Sabado\")\n",
    "elif(dia==7):\n",
    "  print(\"Domingo\")"
   ]
  },
  {
   "cell_type": "markdown",
   "metadata": {},
   "source": [
    "7. Faça um programa que lê as duas notas parciais obtidas por um aluno numa\n",
    "disciplina ao longo de um semestre, e calcule a sua média. A atribuição de conceitos\n",
    "obedece à tabela abaixo:\n",
    " Média de Aproveitamento Conceito\n",
    " Entre 9.0 e 10.0 A\n",
    " Entre 7.5 e 9.0 B\n",
    " Entre 6.0 e 7.5 C\n",
    " Entre 4.0 e 6.0 D\n",
    " Entre 4.0 e zero E\n",
    "O algoritmo deve mostrar na tela as notas, a média, o conceito correspondente e a\n",
    "mensagem “APROVADO” se o conceito for A, B ou C ou “REPROVADO” se o conceito\n",
    "for D ou E."
   ]
  },
  {
   "cell_type": "code",
   "execution_count": 15,
   "metadata": {},
   "outputs": [
    {
     "name": "stdout",
     "output_type": "stream",
     "text": [
      "digite a primeira nota7\n",
      "digite a segunda nota8\n",
      "Nota  7.5\n",
      "B aprovado\n"
     ]
    }
   ],
   "source": [
    "x,y=int(input(\"digite a primeira nota\")), int(input(\"digite a segunda nota\"))\n",
    "total =  (x + y) / 2\n",
    "print(\"Nota \",total)\n",
    "if (total >= 9 and total <= 10):\n",
    "  print(\"A aprovado\")\n",
    "elif (total >= 7.5 and total < 9 ):\n",
    "  print(\"B aprovado\")\n",
    "elif (total >= 6 and total < 7.5 ):\n",
    "  print(\"C aprovado\")\n",
    "elif (total >= 4 and total < 6 ):\n",
    "  print(\"D reprovado\")\n",
    "elif (total >= 0 and total < 4 ):\n",
    "  print(\"E reprovado\")"
   ]
  },
  {
   "cell_type": "markdown",
   "metadata": {},
   "source": [
    "8. Faça um Programa que peça os 3 lados de um triângulo. O programa deverá\n",
    "informar se os valores podem ser um triângulo. Indique, caso os lados formem um\n",
    "triângulo, se o mesmo é: equilátero, isósceles ou escaleno.\n",
    "Dicas:\n",
    "Três lados formam um triângulo quando a soma de quaisquer dois lados for maior\n",
    "que o terceiro;\n",
    "Triângulo Equilátero: três lados iguais;\n",
    "Triângulo Isósceles: quaisquer dois lados iguais;\n",
    "Triângulo Escaleno: três lados diferentes;"
   ]
  },
  {
   "cell_type": "code",
   "execution_count": 16,
   "metadata": {},
   "outputs": [
    {
     "name": "stdout",
     "output_type": "stream",
     "text": [
      "Digite um lado4\n",
      "Digite segundo lado4\n",
      "Digite terceiro lado4\n",
      "Triângulo Equilátero\n"
     ]
    }
   ],
   "source": [
    "lado1 = float(input(\"Digite um lado\"))\n",
    "lado2 = float(input(\"Digite segundo lado\"))\n",
    "lado3 = float(input(\"Digite terceiro lado\"))\n",
    "\n",
    "if(lado1 == lado2 and lado2 == lado3 and lado1 == lado3):\n",
    "  print(\"Triângulo Equilátero\")\n",
    "elif(lado1 != lado2 and lado2 != lado3 and lado1 != lado3):\n",
    "  print(\"Triângulo Isósceles\")\n",
    "else:\n",
    "  print(\"Triângulo Escaleno\")\n"
   ]
  },
  {
   "cell_type": "markdown",
   "metadata": {},
   "source": [
    "9. Faça um programa que calcule as raízes de uma equação do segundo grau, na\n",
    "forma ax2 + bx + c. O programa deverá pedir os valores de a, b e c e fazer as\n",
    "consistências, informando ao usuário nas seguintes situações:\n",
    "Se o usuário informar o valor de A igual a zero, a equação não é do segundo grau e\n",
    "o programa não deve fazer pedir os demais valores, sendo encerrado;\n",
    "Se o delta calculado for negativo, a equação não possui raizes reais. Informe ao\n",
    "usuário e encerre o programa;\n",
    "Se o delta calculado for igual a zero a equação possui apenas uma raiz real;\n",
    "informe-a ao usuário;\n",
    "Se o delta for positivo, a equação possui duas raiz reais; informe-as ao usuário;"
   ]
  },
  {
   "cell_type": "code",
   "execution_count": 1,
   "metadata": {},
   "outputs": [
    {
     "name": "stdout",
     "output_type": "stream",
     "text": [
      "Digitet numero6\n",
      "Digitet numero18\n",
      "Digitet numero55\n",
      "não tem raiz real\n"
     ]
    }
   ],
   "source": [
    "def delta(a,b,c):\n",
    "    return (b**2) - (4*a*c)\n",
    "def raizes(a,b,c,delta):\n",
    "    x = (-b+ delta**(1.0/2.0)) / (2.0*a)\n",
    "    y = (-b- delta**(1.0/2.0)) / (2.0*a)\n",
    "    return {\"x\":x,\"y\":y}\n",
    "\n",
    "a = int(input(\"Digitet numero\"))\n",
    "\n",
    "if (a == 0):\n",
    "  print(\"programa encerrado\")\n",
    "else:\n",
    "  b = int(input(\"Digitet numero\"))\n",
    "  c = int(input(\"Digitet numero\"))\n",
    "  if(delta(a,b,c) < 0):\n",
    "    print(\"não tem raiz real\")\n",
    "  elif (delta(a,b,c) == 0):\n",
    "    print(\"apenas uma raiz real\")\n",
    "  elif(delta(a,b,c > 0)):\n",
    "    raiz = raizes(a,b,c,delta(a,b,c))\n",
    "    print(\"a equal possui raiz real: \", raiz['x'], \" e \", raiz['y'])\n"
   ]
  },
  {
   "cell_type": "markdown",
   "metadata": {},
   "source": [
    "10. Faça um Programa para um caixa eletrônico. O programa deverá perguntar ao\n",
    "usuário a valor do saque e depois informar quantas notas de cada valor serão\n",
    "fornecidas. As notas disponíveis serão as de 1, 5, 10, 50 e 100 reais. O valor mínimo é\n",
    "de 10 reais e o máximo de 600 reais. O programa não deve se preocupar com a\n",
    "quantidade de notas existentes na máquina.\n",
    "Exemplo 1: Para sacar a quantia de 256 reais, o programa fornece duas notas de\n",
    "100, uma nota de 50, uma nota de 5 e uma nota de 1;\n",
    "Exemplo 2: Para sacar a quantia de 399 reais, o programa fornece três notas de\n",
    "100, uma nota de 50, quatro notas de 10, uma nota de 5 e quatro notas de 1."
   ]
  },
  {
   "cell_type": "code",
   "execution_count": 2,
   "metadata": {},
   "outputs": [
    {
     "name": "stdout",
     "output_type": "stream",
     "text": [
      "Qual o valor? (validos entre 10 e 600)500\n",
      "As notas são:  [100, 100, 100, 100, 100]\n"
     ]
    }
   ],
   "source": [
    "notas = [1, 5, 10, 50, 100]\n",
    "valor = int(input('Qual o valor? (validos entre 10 e 600)'))\n",
    "\n",
    "if valor >= 10 and valor <= 600:\n",
    "    quantia = 0\n",
    "    saida = list()\n",
    "    p = 4\n",
    "    while quantia < valor and p >= 0:\n",
    "        if valor - notas[p] >= 0:\n",
    "            saida.append(notas[p])\n",
    "            valor -= notas[p]\n",
    "        else:\n",
    "            p -= 1\n",
    "    print('As notas são: ', saida)\n",
    "else:\n",
    "    print('Valor inválido.')"
   ]
  },
  {
   "cell_type": "markdown",
   "metadata": {},
   "source": [
    "11. Faça um programa que faça 5 perguntas para uma pessoa sobre um crime. As\n",
    "perguntas são:\n",
    "\"Telefonou para a vítima?\"\n",
    "\"Esteve no local do crime?\"\n",
    "\"Mora perto da vítima?\"\n",
    "\"Devia para a vítima?\"\n",
    "\"Já trabalhou com a vítima?\"\n",
    "O programa deve no final emitir uma classificação sobre a participação da pessoa no\n",
    "crime. Se a pessoa responder positivamente a 2 questões ela deve ser classificada\n",
    "como \"Suspeita\", entre 3 e 4 como \"Cúmplice\" e 5 como \"Assassino\". Caso contrário,\n",
    "ele será classificado como \"Inocente\"."
   ]
  },
  {
   "cell_type": "code",
   "execution_count": 3,
   "metadata": {},
   "outputs": [
    {
     "name": "stdout",
     "output_type": "stream",
     "text": [
      "Telefonou para a vítima?S/N :n\n",
      "Esteve no local do crime?S/N :s\n",
      "Mora perto da vítima?S/N :s\n",
      "Devia para a vítima?S/N :s\n",
      "Já trabalhou com a vítima?S/N :s\n",
      "O investigado é cúmplice.\n"
     ]
    }
   ],
   "source": [
    "interrogatorio = {\"Telefonou para a vítima?\":False,\n",
    "    \"Esteve no local do crime?\":False, \n",
    "    \"Mora perto da vítima?\":False,\n",
    "    \"Devia para a vítima?\":False,\n",
    "    \"Já trabalhou com a vítima?\":False}\n",
    "for item in interrogatorio:\n",
    "    interrogatorio[item]=input(item + 'S/N :').upper()=='S'\n",
    "respostas = (sum(interrogatorio.values()))\n",
    "\n",
    "if respostas == 0 or respostas == 1:\n",
    "    situacao = 'inocente'\n",
    "elif respostas == 2:\n",
    "    situacao = 'suspeito'\n",
    "elif respostas == 3 or respostas == 4:\n",
    "    situacao = 'cúmplice'\n",
    "elif respostas == 5:\n",
    "    situacao = 'assassino'\n",
    "    \n",
    "print(f'O investigado é {situacao}.')"
   ]
  },
  {
   "cell_type": "markdown",
   "metadata": {},
   "source": [
    "12. Uma fruteira está vendendo frutas com a seguinte tabela de preços:\n",
    " Até 5 Kg Acima de 5 Kg\n",
    "Morango R$ 2,50 por Kg R$ 2,20 por Kg\n",
    "Maçã R$ 1,80 por Kg R$ 1,50 por Kg\n",
    "Se o cliente comprar mais de 8 Kg em frutas ou o valor total da compra ultrapassar\n",
    "R$ 25,00, receberá ainda um desconto de 10% sobre este total. Escreva um\n",
    "algoritmo para ler a quantidade (em Kg) de morangos e a quantidade (em Kg) de\n",
    "maças adquiridas e escreva o valor a ser pago pelo cliente"
   ]
  },
  {
   "cell_type": "code",
   "execution_count": 7,
   "metadata": {},
   "outputs": [
    {
     "name": "stdout",
     "output_type": "stream",
     "text": [
      "quantos irá comprar de morango1\n",
      "quantos irá comprar de maçã20\n",
      "Morango:  1.0 kg\n",
      "Maçã:  20.0 kg\n",
      "Desconto:  3.25  total  29.25\n"
     ]
    }
   ],
   "source": [
    "kgMorango = float(input(\"quantos irá comprar de morango\"))\n",
    "kgMaca = float(input(\"quantos irá comprar de maçã\"))\n",
    "\n",
    "total = 0\n",
    "\n",
    "if (kgMorango <= 5):\n",
    "  total += kgMorango * 2.50\n",
    "if(kgMorango > 5):\n",
    "  total += kgMorango * 2.20\n",
    "if (kgMaca <= 5):\n",
    "  total += kgMaca * 1.80\n",
    "if(kgMaca > 5):\n",
    "  total += kgMaca * 1.50\n",
    "\n",
    "if ((kgMaca+kgMorango) >= 8 or total >= 25):\n",
    "  desconto = total * 0.10\n",
    "\n",
    "print(\"Morango: \",kgMorango,\"kg\")\n",
    "print(\"Maçã: \",kgMaca,\"kg\")\n",
    "print(\"Desconto: \",desconto,\" total \", (total - desconto))"
   ]
  },
  {
   "cell_type": "markdown",
   "metadata": {},
   "source": [
    "13. Faça um programa que peça uma nota, entre zero e dez. Mostre uma mensagem\n",
    "caso o valor seja inválido e continue pedindo até que o usuário informe um valor\n",
    "válido."
   ]
  },
  {
   "cell_type": "code",
   "execution_count": 8,
   "metadata": {},
   "outputs": [
    {
     "name": "stdout",
     "output_type": "stream",
     "text": [
      "Digite numero44\n",
      "Valor invalido, tente novamente\n",
      "Digite numero5\n",
      "Nota aceita\n"
     ]
    }
   ],
   "source": [
    "\n",
    "while (int(input(\"Digite numero\")) not in [0,1,2,3,4,5,6,7,8,9,10]):\n",
    "  print(\"Valor invalido, tente novamente\")\n",
    "print(\"Nota aceita\")"
   ]
  },
  {
   "cell_type": "markdown",
   "metadata": {},
   "source": [
    "13. Faça um programa que leia e valide as seguintes informações:\n",
    "Nome: maior que 3 caracteres;\n",
    "Idade: entre 0 e 150;\n",
    "Salário: maior que zero;\n",
    "Sexo: 'f' ou 'm';\n",
    "Estado Civil: 's', 'c', 'v', 'd';"
   ]
  },
  {
   "cell_type": "code",
   "execution_count": 9,
   "metadata": {},
   "outputs": [
    {
     "name": "stdout",
     "output_type": "stream",
     "text": [
      "Digite se nomeju\n",
      "digite a idade500\n",
      "Digite o salario-20\n",
      "digite seu sexo f ou mM\n",
      "Digite seu estado civilS\n",
      "Nome precisa ter mais que 3 letras\n",
      "Tente novamente\n",
      "Digite se nomejuliano\n",
      "digite a idade32\n",
      "Digite o salario20000\n",
      "digite seu sexo f ou mm\n",
      "Digite seu estado civils\n",
      "validado\n"
     ]
    }
   ],
   "source": [
    "def validar():\n",
    "  nome = input(\"Digite se nome\")\n",
    "  idade = int(input(\"digite a idade\"))\n",
    "  salario = float(input(\"Digite o salario\"))\n",
    "  sexo = input(\"digite seu sexo f ou m\")\n",
    "  estado = input(\"Digite seu estado civil\")\n",
    "\n",
    "  req = {'nome':3,'idade':[0,150],'salario':0,'sexo':['f','m'],'estado':['s','c','v','d']}\n",
    "\n",
    "  if(len(nome) <= req['nome']):\n",
    "    print(\"Nome precisa ter mais que 3 letras\")\n",
    "    return False\n",
    "  if(idade <= req['idade'][0] or idade > req['idade'][1]):\n",
    "    print(\"Idade precisa estar entre 0 a 150\")\n",
    "    return False\n",
    "  if(salario < req['salario']):\n",
    "    print(\"Salario tem que ser maior que 0\")\n",
    "    return False\n",
    "  if(sexo not in req['sexo']):\n",
    "    print(\"digite f = female, m = male\")\n",
    "    return False\n",
    "  if(estado not in req['estado']):\n",
    "    print(\"digite s = solteiro, c = casado, v = viúvo, d = divorciado\")\n",
    "    return False\n",
    "  return True\n",
    "\n",
    "while(validar() != True):\n",
    "  print(\"Tente novamente\")\n",
    "print(\"validado\")"
   ]
  },
  {
   "cell_type": "markdown",
   "metadata": {},
   "source": [
    "14. Faça um programa que leia 5 números e informe o maior número."
   ]
  },
  {
   "cell_type": "code",
   "execution_count": 10,
   "metadata": {},
   "outputs": [
    {
     "name": "stdout",
     "output_type": "stream",
     "text": [
      "Digite um numero4\n",
      "Digite um numero9\n",
      "Digite um numero7\n",
      "Digite um numero2\n",
      "Digite um numero5\n",
      "9\n"
     ]
    }
   ],
   "source": [
    "lista = []\n",
    "maior = 0;\n",
    "\n",
    "for x in range(5):\n",
    "  lista.append(int(input(\"Digite um numero\")))\n",
    "  if(lista[x] > maior):\n",
    "    maior = lista[x]\n",
    "\n",
    "print(maior)"
   ]
  },
  {
   "cell_type": "markdown",
   "metadata": {},
   "source": [
    "15. Faça um programa que leia 5 números e informe a soma e a média dos números."
   ]
  },
  {
   "cell_type": "code",
   "execution_count": 11,
   "metadata": {},
   "outputs": [
    {
     "name": "stdout",
     "output_type": "stream",
     "text": [
      "Escreva um numero: 2\n",
      "Escreva um numero: 3\n",
      "Escreva um numero: 2\n",
      "Escreva um numero: 3\n",
      "Escreva um numero: 2\n",
      "soma:  12\n",
      "media:  2.4\n"
     ]
    }
   ],
   "source": [
    "soma = 0\n",
    "for n in range(5):\n",
    "    soma += int(input(\"Escreva um numero: \"))\n",
    "print(\"soma: \", soma)\n",
    "print(\"media: \", soma/5)"
   ]
  },
  {
   "cell_type": "markdown",
   "metadata": {},
   "source": [
    "16. Faça um programa que imprima na tela apenas os números ímpares entre 1 e 50.\n"
   ]
  },
  {
   "cell_type": "code",
   "execution_count": 13,
   "metadata": {},
   "outputs": [
    {
     "name": "stdout",
     "output_type": "stream",
     "text": [
      "[1, 3, 5, 7, 9, 11, 13, 15, 17, 19, 21, 23, 25, 27, 29, 31, 33, 35, 37, 39, 41, 43, 45, 47, 49]\n"
     ]
    }
   ],
   "source": [
    "lista=[]\n",
    "for x in range(50): \n",
    "  if((x % 2) != 0):\n",
    "    lista.append(x)\n",
    "print(lista)"
   ]
  },
  {
   "cell_type": "markdown",
   "metadata": {},
   "source": [
    "17. Desenvolva um gerador de tabuada, capaz de gerar a tabuada de qualquer\n",
    "número inteiro entre 1 a 10. O usuário deve informar de qual numero ele deseja ver\n",
    "a tabuada. A saída deve ser conforme o exemplo abaixo:\n",
    "Tabuada de 5:\n",
    "5 X 1 = 5\n",
    "5 X 2 = 10\n",
    "...\n",
    "5 X 10 = 50"
   ]
  },
  {
   "cell_type": "code",
   "execution_count": 14,
   "metadata": {},
   "outputs": [
    {
     "name": "stdout",
     "output_type": "stream",
     "text": [
      "Digite um numero7\n",
      "7  x  1  =  7\n",
      "7  x  2  =  14\n",
      "7  x  3  =  21\n",
      "7  x  4  =  28\n",
      "7  x  5  =  35\n",
      "7  x  6  =  42\n",
      "7  x  7  =  49\n",
      "7  x  8  =  56\n",
      "7  x  9  =  63\n",
      "7  x  10  =  70\n"
     ]
    }
   ],
   "source": [
    "numero = int(input(\"Digite um numero\"))\n",
    "for x in range(10):\n",
    "  print(numero, \" x \", (x+1), \" = \", numero * (x+1))"
   ]
  },
  {
   "cell_type": "markdown",
   "metadata": {},
   "source": [
    "18. A série de Fibonacci é formada pela seqüência 1,1,2,3,5,8,13,21,34,55,... Faça um\n",
    "programa capaz de gerar a série até o n−ésimo termo."
   ]
  },
  {
   "cell_type": "code",
   "execution_count": 15,
   "metadata": {},
   "outputs": [
    {
     "name": "stdout",
     "output_type": "stream",
     "text": [
      "[1, 1, 2, 3, 5, 8, 13, 21, 34, 55]\n"
     ]
    }
   ],
   "source": [
    "n = 10\n",
    "lista = [1,1]\n",
    "for i in range(2,n):\n",
    "    lista.append(lista[i-2]+lista[i-1])\n",
    "if n == 1:\n",
    "    print([1])\n",
    "else:\n",
    "    print(lista)"
   ]
  },
  {
   "cell_type": "markdown",
   "metadata": {},
   "source": [
    "19. Faça um programa que calcule o fatorial de um número inteiro fornecido pelo\n",
    "usuário. Ex.: 5!=5.4.3.2.1=120"
   ]
  },
  {
   "cell_type": "code",
   "execution_count": 16,
   "metadata": {},
   "outputs": [
    {
     "name": "stdout",
     "output_type": "stream",
     "text": [
      "Digite o valor de n: 5\n",
      "5 !  1 = 1\n",
      "5 !  2 = 2\n",
      "5 !  3 = 6\n",
      "5 !  4 = 24\n",
      "5 !  5 = 120\n",
      "O valor de 5! eh = 120\n"
     ]
    }
   ],
   "source": [
    "n = int(input(\"Digite o valor de n: \"))\n",
    "fat = 1\n",
    "i = 1\n",
    "while i <= n:\n",
    "  fat = fat*i\n",
    "  print(n,\"! \",i,\"=\", fat)\n",
    "  i = i + 1\n",
    "print(\"O valor de %d! eh =\" %n, fat)"
   ]
  },
  {
   "cell_type": "markdown",
   "metadata": {},
   "source": [
    "20. O Sr. Manoel Joaquim possui uma grande loja de artigos de R$ 1,99, com cerca\n",
    "de 10 caixas. Para agilizar o cálculo de quanto cada cliente deve pagar ele\n",
    "desenvolveu um tabela que contém o número de itens que o cliente comprou e ao\n",
    "lado o valor da conta. Desta forma a atendente do caixa precisa apenas contar\n",
    "quantos itens o cliente está levando e olhar na tabela de preços. Você foi contratado\n",
    "para desenvolver o programa que monta esta tabela de preços, que conterá os\n",
    "preços de 1 até 50 produtos, conforme o exemplo abaixo:\n",
    "Lojas Quase Dois - Tabela de preços\n",
    "1 - R$ 1.99\n",
    "2 - R$ 3.98\n",
    "...\n",
    "50 - R$ 99.50"
   ]
  },
  {
   "cell_type": "code",
   "execution_count": 17,
   "metadata": {},
   "outputs": [
    {
     "name": "stdout",
     "output_type": "stream",
     "text": [
      "1 - R$  1.99\n",
      "2 - R$  3.98\n",
      "3 - R$  5.97\n",
      "4 - R$  7.96\n",
      "5 - R$  9.95\n",
      "6 - R$  11.94\n",
      "7 - R$  13.93\n",
      "8 - R$  15.92\n",
      "9 - R$  17.91\n",
      "10 - R$  19.9\n",
      "11 - R$  21.89\n",
      "12 - R$  23.88\n",
      "13 - R$  25.87\n",
      "14 - R$  27.86\n",
      "15 - R$  29.85\n",
      "16 - R$  31.84\n",
      "17 - R$  33.83\n",
      "18 - R$  35.82\n",
      "19 - R$  37.81\n",
      "20 - R$  39.8\n",
      "21 - R$  41.79\n",
      "22 - R$  43.78\n",
      "23 - R$  45.77\n",
      "24 - R$  47.76\n",
      "25 - R$  49.75\n",
      "26 - R$  51.74\n",
      "27 - R$  53.73\n",
      "28 - R$  55.72\n",
      "29 - R$  57.71\n",
      "30 - R$  59.7\n",
      "31 - R$  61.69\n",
      "32 - R$  63.68\n",
      "33 - R$  65.67\n",
      "34 - R$  67.66\n",
      "35 - R$  69.65\n",
      "36 - R$  71.64\n",
      "37 - R$  73.63\n",
      "38 - R$  75.62\n",
      "39 - R$  77.61\n",
      "40 - R$  79.6\n",
      "41 - R$  81.59\n",
      "42 - R$  83.58\n",
      "43 - R$  85.57\n",
      "44 - R$  87.56\n",
      "45 - R$  89.55\n",
      "46 - R$  91.54\n",
      "47 - R$  93.53\n",
      "48 - R$  95.52\n",
      "49 - R$  97.51\n",
      "50 - R$  99.5\n"
     ]
    }
   ],
   "source": [
    "lista=[]\n",
    "for x in range(50): \n",
    "  print((x+1),\"- R$ \",((x+1)*1.99))"
   ]
  },
  {
   "cell_type": "markdown",
   "metadata": {},
   "source": [
    "21. O Sr. Manoel Joaquim acaba de adquirir uma panificadora e pretende implantar\n",
    "a metodologia da tabelinha, que já é um sucesso na sua loja de 1,99. Você foi\n",
    "contratado para desenvolver o programa que monta a tabela de preços de pães, de\n",
    "1 até 50 pães, a partir do preço do pão informado pelo usuário, conforme o exemplo\n",
    "abaixo:\n",
    "Preço do pão: R$ 0.18\n",
    "Panificadora Pão de Ontem - Tabela de preços\n",
    "1 - R$ 0.18\n",
    "2 - R$ 0.36\n",
    "...\n",
    "50 - R$ 9.00"
   ]
  },
  {
   "cell_type": "code",
   "execution_count": 21,
   "metadata": {},
   "outputs": [
    {
     "name": "stdout",
     "output_type": "stream",
     "text": [
      "1 - R$  0.18\n",
      "2 - R$  0.36\n",
      "3 - R$  0.54\n",
      "4 - R$  0.72\n",
      "5 - R$  0.90\n",
      "6 - R$  1.08\n",
      "7 - R$  1.26\n",
      "8 - R$  1.44\n",
      "9 - R$  1.62\n",
      "10 - R$  1.80\n",
      "11 - R$  1.98\n",
      "12 - R$  2.16\n",
      "13 - R$  2.34\n",
      "14 - R$  2.52\n",
      "15 - R$  2.70\n",
      "16 - R$  2.88\n",
      "17 - R$  3.06\n",
      "18 - R$  3.24\n",
      "19 - R$  3.42\n",
      "20 - R$  3.60\n",
      "21 - R$  3.78\n",
      "22 - R$  3.96\n",
      "23 - R$  4.14\n",
      "24 - R$  4.32\n",
      "25 - R$  4.50\n",
      "26 - R$  4.68\n",
      "27 - R$  4.86\n",
      "28 - R$  5.04\n",
      "29 - R$  5.22\n",
      "30 - R$  5.40\n",
      "31 - R$  5.58\n",
      "32 - R$  5.76\n",
      "33 - R$  5.94\n",
      "34 - R$  6.12\n",
      "35 - R$  6.30\n",
      "36 - R$  6.48\n",
      "37 - R$  6.66\n",
      "38 - R$  6.84\n",
      "39 - R$  7.02\n",
      "40 - R$  7.20\n",
      "41 - R$  7.38\n",
      "42 - R$  7.56\n",
      "43 - R$  7.74\n",
      "44 - R$  7.92\n",
      "45 - R$  8.10\n",
      "46 - R$  8.28\n",
      "47 - R$  8.46\n",
      "48 - R$  8.64\n",
      "49 - R$  8.82\n",
      "50 - R$  9.00\n"
     ]
    }
   ],
   "source": [
    "lista=[]\n",
    "for x in range(50): \n",
    "  print((x+1),\"- R$ \",\"%.2f\"%((x+1)*0.18))"
   ]
  },
  {
   "cell_type": "markdown",
   "metadata": {},
   "source": [
    "22. O Sr. Manoel Joaquim expandiu seus negócios para além dos negócios de 1,99 e\n",
    "agora possui uma loja de conveniências. Faça um programa que implemente uma\n",
    "caixa registradora rudimentar. O programa deverá receber um número\n",
    "desconhecido de valores referentes aos preços das mercadorias. Um valor zero deve\n",
    "ser informado pelo operador para indicar o final da compra. O programa deve então\n",
    "mostrar o total da compra e perguntar o valor em dinheiro que o cliente forneceu,\n",
    "para então calcular e mostrar o valor do troco. Após esta operação, o programa\n",
    "deverá voltar ao ponto inicial, para registrar a próxima compra. A saída deve ser\n",
    "conforme o exemplo abaixo:\n",
    "Lojas Tabajara\n",
    "Produto 1: R$ 2.20\n",
    "Produto 2: R$ 5.80\n",
    "Produto 3: R$ 0\n",
    "Total: R$ 9.00\n",
    "Dinheiro: R$ 20.00\n",
    "Troco: R$ 11.00\n",
    "..."
   ]
  },
  {
   "cell_type": "code",
   "execution_count": 22,
   "metadata": {},
   "outputs": [
    {
     "name": "stdout",
     "output_type": "stream",
     "text": [
      "Digite valor4\n",
      "Adicionado\n",
      "Digite valor5\n",
      "Adicionado\n",
      "Digite valor-1\n",
      "Digite o valor pago20\n",
      "lojas tabajaras\n",
      "produto  1 : R$ 4\n",
      "produto  2 : R$ 5\n",
      "total:  9\n",
      "dinheiro pago:  20.0\n",
      "total:  11.0\n"
     ]
    }
   ],
   "source": [
    "def adicionar(total):\n",
    "  num = int(input(\"Digite valor\"))\n",
    "  if(num > 0):\n",
    "    total.append(num)\n",
    "    return True\n",
    "  else:\n",
    "    return False\n",
    "  \n",
    "tot=[]\n",
    "dinheiro = 0\n",
    "valor =0\n",
    "\n",
    "while(adicionar(tot)):\n",
    "  print(\"Adicionado\")\n",
    "dinheiro = float(input(\"Digite o valor pago\"))\n",
    "\n",
    "print(\"lojas tabajaras\")\n",
    "for x in range(len(tot)):\n",
    "  valor = valor + tot[x]\n",
    "  print(\"produto \",(x+1),\": R$\",tot[x])\n",
    "\n",
    "print(\"total: \", valor)\n",
    "print(\"dinheiro pago: \", dinheiro)\n",
    "print(\"troco: \", (dinheiro - valor))"
   ]
  },
  {
   "cell_type": "markdown",
   "metadata": {},
   "source": [
    "23. Foi feita uma estatística em cinco cidades brasileiras para coletar dados sobre\n",
    "acidentes de trânsito. Foram obtidos os seguintes dados:\n",
    "Código da cidade;\n",
    "Número de veículos de passeio (em 1999);\n",
    "Número de acidentes de trânsito com vítimas (em 1999). Deseja-se saber:\n",
    "Qual o maior e menor índice de acidentes de transito e a que cidade pertence;\n",
    "Qual a média de veículos nas cinco cidades juntas;\n",
    "Qual a média de acidentes de trânsito nas cidades com menos de 2.000 veículos de\n",
    "passeio."
   ]
  },
  {
   "cell_type": "code",
   "execution_count": 23,
   "metadata": {},
   "outputs": [
    {
     "name": "stdout",
     "output_type": "stream",
     "text": [
      "menor indice 10 cidade 4\n",
      "maior indice 295 cidade 5\n",
      "Média de veiculos de passeio:  1320.0\n",
      "media de acidentes em cidades com menos de 2000 carros de passeio 107.25\n"
     ]
    }
   ],
   "source": [
    "cidade1 = {'codigo':1,'carros':1000,'acidentes':78}\n",
    "cidade2 = {'codigo':2,'carros':1600,'acidentes':230}\n",
    "cidade3 = {'codigo':3,'carros':1400,'acidentes':111}\n",
    "cidade4 = {'codigo':4,'carros':500,'acidentes':10}\n",
    "cidade5 = {'codigo':5,'carros':2100,'acidentes':295}\n",
    "\n",
    "cidades = [cidade1,cidade2,cidade3,cidade4,cidade5]\n",
    "\n",
    "maior_indice = {'id':0,'acidentes':0}\n",
    "menorindice = {'id':0,'acidentes':999999999}\n",
    "media_veiculos = 0\n",
    "media_acidentes_menos_2000 = {'cont':0,'acidentes':0}\n",
    "\n",
    "for x in cidades:\n",
    "  media_veiculos = media_veiculos + x['carros']\n",
    "  if (x['acidentes'] < menorindice['acidentes']):\n",
    "    menorindice['acidentes'] = x['acidentes']\n",
    "    menorindice['id'] = x['codigo']\n",
    "  if (x['acidentes'] > maior_indice['acidentes']):\n",
    "    maior_indice['acidentes'] = x['acidentes']\n",
    "    maior_indice['id'] = x['codigo']\n",
    "  if(x['carros'] < 2000):\n",
    "    media_acidentes_menos_2000['cont'] += 1\n",
    "    media_acidentes_menos_2000['acidentes'] += x['acidentes']\n",
    "\n",
    "print(\"menor indice\", menorindice['acidentes'],'cidade', menorindice['id'])\n",
    "print(\"maior indice\", maior_indice['acidentes'],'cidade', maior_indice['id'])\n",
    "print('Média de veiculos de passeio: ', media_veiculos / 5)\n",
    "print('media de acidentes em cidades com menos de 2000 carros de passeio',media_acidentes_menos_2000['acidentes'] / media_acidentes_menos_2000['cont'])"
   ]
  },
  {
   "cell_type": "markdown",
   "metadata": {},
   "source": [
    "24. Faça um programa que receba o valor de uma dívida e mostre uma tabela com\n",
    "os seguintes dados: valor da dívida, valor dos juros, quantidade de parcelas e valor\n",
    "da parcela.\n",
    "Os juros e a quantidade de parcelas seguem a tabela abaixo:\n",
    "Quantidade de Parcelas % de Juros sobre o valor inicial da dívida\n",
    "1 0\n",
    "3 10\n",
    "6 15\n",
    "9 20\n",
    "12 25\n",
    "Exemplo de saída do programa:\n",
    "Valor da Dívida Valor dos Juros Quantidade de Parcelas Valor da Parcela\n",
    "R$ 1.000,00 0 1 R$ 1.000,00\n",
    "R$ 1.100,00 100 3 R$ 366,00\n",
    "R$ 1.150,00 150 6 R$ 191,67"
   ]
  },
  {
   "cell_type": "code",
   "execution_count": 25,
   "metadata": {},
   "outputs": [
    {
     "name": "stdout",
     "output_type": "stream",
     "text": [
      "Digite valor da divida50\n",
      "Valor da Divida 50.0 valor do juros  0.0 quantidade de apercelas 0  valor da parcela  50.0\n",
      "Valor da Divida 50.0 valor do juros  2.5 quantidade de apercelas 3  valor da parcela  52.5\n",
      "Valor da Divida 50.0 valor do juros  5.0 quantidade de apercelas 6  valor da parcela  55.0\n",
      "Valor da Divida 50.0 valor do juros  7.5 quantidade de apercelas 9  valor da parcela  57.5\n",
      "Valor da Divida 50.0 valor do juros  10.0 quantidade de apercelas 12  valor da parcela  60.0\n"
     ]
    }
   ],
   "source": [
    "divida = float(input(\"Digite valor da divida\"))\n",
    "juros = 0\n",
    "parcelas = 3\n",
    "for x in range(5):\n",
    "  print('Valor da Divida',divida,\n",
    "  'valor do juros ', juros*(divida/100),\n",
    "  'quantidade de apercelas', parcelas * (x),\n",
    "  ' valor da parcela ', divida+(juros*(divida/100))\n",
    "  )\n",
    "  juros +=5"
   ]
  },
  {
   "cell_type": "markdown",
   "metadata": {},
   "source": [
    "25. Faça um programa que mostre os n termos da Série a seguir:\n",
    " S = 1/1 + 2/3 + 3/5 + 4/7 + 5/9 + ... + n/m.\n",
    "Imprima no final a soma da série."
   ]
  },
  {
   "cell_type": "code",
   "execution_count": 26,
   "metadata": {},
   "outputs": [
    {
     "name": "stdout",
     "output_type": "stream",
     "text": [
      "1 / 1\n",
      "2 / 3\n",
      "3 / 5\n",
      "4 / 7\n",
      "5 / 9\n",
      "total: 3.39\n"
     ]
    }
   ],
   "source": [
    "x=1\n",
    "y=1\n",
    "n=0\n",
    "total=0\n",
    "for i in range(5):\n",
    "  n = x/y\n",
    "  print(x,'/',y)\n",
    "  x+=1\n",
    "  y+=2\n",
    "  total += n\n",
    "print('total: %.2f' % total)"
   ]
  },
  {
   "cell_type": "code",
   "execution_count": null,
   "metadata": {},
   "outputs": [],
   "source": []
  }
 ],
 "metadata": {
  "kernelspec": {
   "display_name": "Python 3",
   "language": "python",
   "name": "python3"
  },
  "language_info": {
   "codemirror_mode": {
    "name": "ipython",
    "version": 3
   },
   "file_extension": ".py",
   "mimetype": "text/x-python",
   "name": "python",
   "nbconvert_exporter": "python",
   "pygments_lexer": "ipython3",
   "version": "3.7.3"
  }
 },
 "nbformat": 4,
 "nbformat_minor": 2
}
