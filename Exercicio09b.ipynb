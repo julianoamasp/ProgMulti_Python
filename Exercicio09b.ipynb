{
 "cells": [
  {
   "cell_type": "markdown",
   "metadata": {},
   "source": [
    "1- Faça um Programa que peça o raio de um círculo, calcule e mostre sua área"
   ]
  },
  {
   "cell_type": "code",
   "execution_count": null,
   "metadata": {},
   "outputs": [],
   "source": [
    "num =int(input(\"Digite o valor do raio:\"))\n",
    "a = (num**2*3.14)\n",
    "print(a,'cm²')"
   ]
  },
  {
   "cell_type": "markdown",
   "metadata": {},
   "source": [
    "2- Faça um Programa que calcule a área de um quadrado, em seguida mostre o dobro desta área para o usuário."
   ]
  },
  {
   "cell_type": "code",
   "execution_count": null,
   "metadata": {},
   "outputs": [],
   "source": [
    "num1 = int(input(\"Digite a base do quadrado:\"))\n",
    "num2 = int(input(\"Digite a altura do quadrado:\"))\n",
    "a = num1*num2\n",
    "if num1 == num2: \n",
    "    print(\"Área do quadrado é:\",a)\n",
    "    print(\"Dobro da área do quadrado\",a*2)\n",
    "else:\n",
    "    print(\"Isso não é um quadrado!\")"
   ]
  },
  {
   "cell_type": "markdown",
   "metadata": {},
   "source": [
    "3- Faça um Programa que pergunte quanto você ganha por hora e o número de horas trabalhadas no mês. Calcule e mostre o total do seu salário no referido mês."
   ]
  },
  {
   "cell_type": "code",
   "execution_count": null,
   "metadata": {},
   "outputs": [],
   "source": [
    "num = int(input(\"Digite seu salário/hora:\"))\n",
    "h   = int(input(\"Quantas horas você trabalhou?\"))\n",
    "\n",
    "t   = num*h\n",
    "\n",
    "print('Salario do mês: R$',t)"
   ]
  },
  {
   "cell_type": "markdown",
   "metadata": {},
   "source": [
    "4- Faça um Programa que peça a temperatura em graus Farenheit, transforme e\n",
    "mostre a temperatura em graus Celsius. C = (5 * (F-32) / 9)."
   ]
  },
  {
   "cell_type": "code",
   "execution_count": 10,
   "metadata": {},
   "outputs": [
    {
     "name": "stdout",
     "output_type": "stream",
     "text": [
      "Quantos graus Farenheit está fazendo?42\n",
      "5.555555555555555 Graus Celsius\n"
     ]
    }
   ],
   "source": [
    "f = int (input(\"Quantos graus Farenheit está fazendo?\"))\n",
    "c = (5 * (f-32) / 9)\n",
    "print(c,\"Graus Celsius\")\n"
   ]
  },
  {
   "cell_type": "markdown",
   "metadata": {},
   "source": [
    "5 Faça um Programa que peça a temperatura em graus Celsius, transforme e mostre\n",
    "em graus Farenheit."
   ]
  },
  {
   "cell_type": "code",
   "execution_count": 6,
   "metadata": {},
   "outputs": [
    {
     "name": "stdout",
     "output_type": "stream",
     "text": [
      "Quantos graus Celsius está fazendo?5\n",
      "41.0 Graus Farenheit\n"
     ]
    }
   ],
   "source": [
    "c = int(input(\"Quantos graus Celsius está fazendo?\"))\n",
    "f = ((c * 9/5)+32)\n",
    "\n",
    "print(f,\"Graus Farenheit\")"
   ]
  },
  {
   "cell_type": "markdown",
   "metadata": {},
   "source": [
    "6- Faça um Programa que peça 2 números inteiros e um número real. Calcule e\n",
    "mostre:\n",
    "- o produto do dobro do primeiro com metade do segundo .\n",
    "- a soma do triplo do primeiro com o terceiro.\n",
    "- o terceiro elevado ao cubo."
   ]
  },
  {
   "cell_type": "code",
   "execution_count": 6,
   "metadata": {},
   "outputs": [
    {
     "name": "stdout",
     "output_type": "stream",
     "text": [
      "Digite um número inteiro:4\n",
      "Digite outro número inteiro:4\n",
      "Agora digite um número real:5.5\n",
      "o produto do dobro do primeiro com metade do segundo: 10.0\n",
      "a soma do triplo do primeiro com o terceiro: 17.5\n",
      "o terceiro elevado ao cubo: 166.375\n"
     ]
    }
   ],
   "source": [
    "num1 = int(input(\"Digite um número inteiro:\"))\n",
    "num2 = int(input(\"Digite outro número inteiro:\"))\n",
    "num3 = float(input(\"Agora digite um número real:\"))\n",
    "\n",
    "a = (num1*2 + num2/2)\n",
    "b = (num1*3 + num3)\n",
    "c = (num3**3)\n",
    "print('o produto do dobro do primeiro com metade do segundo:',a)\n",
    "print('a soma do triplo do primeiro com o terceiro:',b)\n",
    "print('o terceiro elevado ao cubo:',c)"
   ]
  },
  {
   "cell_type": "markdown",
   "metadata": {},
   "source": [
    "7- João Papo-de-Pescador, homem de bem, comprou um microcomputador para\n",
    "controlar o rendimento diário de seu trabalho. Toda vez que ele traz um peso de\n",
    "peixes maior que o estabelecido pelo regulamento de pesca do estado de São Paulo\n",
    "(50 quilos) deve pagar uma multa de R$ 4,00 por quilo excedente. João precisa que\n",
    "você faça um programa que leia a variável peso (peso de peixes) e verifique se há\n",
    "excesso. Se houver, gravar na variável excesso e na variável multa o valor da multa\n",
    "que João deverá pagar. Caso contrário mostrar tais variáveis com o conteúdo ZERO."
   ]
  },
  {
   "cell_type": "code",
   "execution_count": 19,
   "metadata": {},
   "outputs": [
    {
     "name": "stdout",
     "output_type": "stream",
     "text": [
      "Quantos quilos de peixe?50\n",
      "Multa= 0 Excesso= 0\n"
     ]
    }
   ],
   "source": [
    "peso = float(input(\"Quantos quilos de peixe?\"))\n",
    "excesso = peso-50\n",
    "multa = excesso*4\n",
    "if excesso>0:\n",
    "    print(multa)\n",
    "else:\n",
    "    multa=0\n",
    "    excesso=0\n",
    "    print('Multa=',multa,'Excesso=',excesso)"
   ]
  },
  {
   "cell_type": "markdown",
   "metadata": {},
   "source": [
    "8 Faça um Programa que pergunte quanto você ganha por hora e o número de horas\n",
    "trabalhadas no mês. Calcule e mostre o total do seu salário no referido mês,\n",
    "sabendo-se que são descontados 11% para o Imposto de Renda, 8% para o INSS e 5%\n",
    "para o sindicato, faça um programa que nos dê:\n",
    "- salário bruto.\n",
    "- quanto pagou ao INSS.\n",
    "- quanto pagou ao sindicato.\n",
    "- o salário líquido.\n",
    "- calcule os descontos e o salário líquido, conforme a tabela abaixo:\n",
    "    + Salário Bruto : R$\n",
    "    - IR (11%) : R$\n",
    "    - INSS (8%) : R$\n",
    "    - Sindicato ( 5%) : R$\n",
    "    = Salário Liquido : R$\n",
    "Obs.: Salário Bruto - Descontos = Salário Líquido."
   ]
  },
  {
   "cell_type": "code",
   "execution_count": 31,
   "metadata": {},
   "outputs": [
    {
     "name": "stdout",
     "output_type": "stream",
     "text": [
      "Digite seu salário:1000\n",
      "Salario Bruto: 1000.0\n",
      "Impost de Renda: 110.0\n",
      "INSS: 80.0\n",
      "Sindicato: 50.0\n",
      "Salário Liquido:760.0\n"
     ]
    }
   ],
   "source": [
    "sal  = float(input('Digite seu salário:'))\n",
    "ir   = float(sal*11/100)\n",
    "inss = float(sal*8/100)\n",
    "sin  = float(sal*5/100)\n",
    "sall = float(sal-ir-inss-sin)\n",
    "\n",
    "print('Salario Bruto: {}\\nImpost de Renda: {}\\nINSS: {}\\nSindicato: {}\\nSalário Liquido:{}'.format (sal, ir, inss, sin, sall))"
   ]
  },
  {
   "cell_type": "markdown",
   "metadata": {},
   "source": [
    "9 Faça um programa que leia 2 strings e informe o conteúdo delas seguido do seu\n",
    "comprimento. Informe também se as duas strings possuem o mesmo comprimento e\n",
    "são iguais ou diferentes no conteúdo.\n",
    "Exemplo:\n",
    "String 1: Brasil Hexa 2018\n",
    "String 2: Brasil! Hexa 2018!\n",
    "Tamanho de \"Brasil Hexa 2018\": 16 caracteres\n",
    "Tamanho de \"Brasil! Hexa 2018!\": 18 caracteres\n",
    "As duas strings são de tamanhos diferentes.\n",
    "As duas strings possuem conteúdo diferente."
   ]
  },
  {
   "cell_type": "code",
   "execution_count": 33,
   "metadata": {},
   "outputs": [
    {
     "name": "stdout",
     "output_type": "stream",
     "text": [
      "Digite uma frase:só sei que nada sei\n",
      "Digite outra frase:tudo que eu sei\n",
      "só sei que nada sei\n",
      "tudo que eu sei\n",
      "Tamanho da primeira frase 19 caracteres\n",
      "Tamanho da segunda frase 15 caracteres\n",
      "As duas Strings não possuem o mesmo tamanho!\n"
     ]
    }
   ],
   "source": [
    "a = str(input(\"Digite uma frase:\"))\n",
    "b = str(input(\"Digite outra frase:\"))\n",
    "c = len(a)\n",
    "d = len(b)\n",
    "\n",
    "print(a)\n",
    "print(b)\n",
    "print(\"Tamanho da primeira frase\",c,'caracteres')\n",
    "print('Tamanho da segunda frase',d,'caracteres')\n",
    "if c==d:\n",
    "    print(\"As duas Strings possuem o mesmo tamanho!\")\n",
    "else:\n",
    "    print(\"As duas Strings não possuem o mesmo tamanho!\")\n"
   ]
  },
  {
   "cell_type": "markdown",
   "metadata": {},
   "source": [
    "10 Faça um programa que permita ao usuário digitar o seu nome e em seguida\n",
    "mostre o nome do usuário de trás para frente utilizando somente letras maiúsculas.\n",
    "Dica: lembre−se que ao informar o nome o usuário pode digitar letras maiúsculas ou\n",
    "minúsculas. Observação: não use loops."
   ]
  },
  {
   "cell_type": "code",
   "execution_count": 38,
   "metadata": {},
   "outputs": [
    {
     "name": "stdout",
     "output_type": "stream",
     "text": [
      "Digite seu nome:Renan Lopes\n",
      "SEPOL NANER\n"
     ]
    }
   ],
   "source": [
    "nome = str(input(\"Digite seu nome:\"))\n",
    "nome = nome.upper()\n",
    "\n",
    "print(nome[::-1])"
   ]
  },
  {
   "cell_type": "markdown",
   "metadata": {},
   "source": [
    "11 Faça um programa que solicite a data de nascimento (dd/mm/aaaa) do usuário e\n",
    "imprima a data com o nome do mês por extenso.\n",
    "Data de Nascimento: 29/10/1973\n",
    "Você nasceu em 29 de Outubro de 1973.\n",
    "Obs.: Não use desvio condicional nem loops."
   ]
  },
  {
   "cell_type": "code",
   "execution_count": 37,
   "metadata": {
    "scrolled": false
   },
   "outputs": [
    {
     "name": "stdout",
     "output_type": "stream",
     "text": [
      "Digite o dia de seu nascimento04\n",
      "Digita o mês de seu nascimento06\n",
      "Digite o ano de seu nascimento1996\n",
      "4 de Junho de 1996\n"
     ]
    }
   ],
   "source": [
    "m = ('Janeiro','Fevereiro','Março','Abril','Maio','Junho','Julho','Agosto','Setembro','Outubro','Novembro','Dezembro')\n",
    "dia = int(input('Digite o dia de seu nascimento'))\n",
    "mes = int(input('Digita o mês de seu nascimento'))  \n",
    "ano = int(input('Digite o ano de seu nascimento'))\n",
    "print (dia,'de', m[mes-1],'de', ano)"
   ]
  },
  {
   "cell_type": "markdown",
   "metadata": {},
   "source": [
    "12 Leet é uma forma de se escrever o alfabeto latino usando outros símbolos em\n",
    "lugar das letras, como números por exemplo. A própria palavra leet admite muitas\n",
    "variações, como l33t ou 1337. O uso do leet reflete uma subcultura relacionada ao\n",
    "mundo dos jogos de computador e internet, sendo muito usada para confundir os\n",
    "iniciantes e afirmar-se como parte de um grupo. Pesquise sobre as principais formas\n",
    "de traduzir as letras. Depois, faça um programa que peça uma texto e transforme-o\n",
    "para a grafia leet speak.\n",
    "Desafio: não use loops nem desvios condicionais."
   ]
  },
  {
   "cell_type": "code",
   "execution_count": 56,
   "metadata": {},
   "outputs": [
    {
     "name": "stdout",
     "output_type": "stream",
     "text": [
      "digite uma frasenão consegui fazer sem loop\n",
      "|\\|Ã0 <0|\\|536|_|1 |=423|2 53|v| 100|º\n"
     ]
    }
   ],
   "source": [
    "abc = (input('digite uma frase'))\n",
    "abc = abc.upper()\n",
    "al  = {'A': '4', 'B': '|3','C':'<', 'D': '[)', 'E': '3', 'F':'|=', 'G':'6', 'H': '|-|', 'I': '1', 'J': '_/', 'K':'|{', 'L':'1',\n",
    "      'M': '|v|', 'N': '|\\|', 'O':'0', 'P':'|º', 'Q':'9', 'R':'|2', 'S':'5', 'T':'7', 'U':'|_|', 'V':'v', 'W':'\\/\\/',\n",
    "      'X':')(', 'Y':'`/', 'Z':'2'}\n",
    "for l in al:\n",
    "   abc = abc.replace(l,al[l])\n",
    "print (abc)"
   ]
  },
  {
   "cell_type": "markdown",
   "metadata": {},
   "source": [
    "13 Crie um programa que recebe uma lista de números e\n",
    "- retorne o maior elemento\n",
    "- retorne a soma dos elementos\n",
    "- retorne o número de ocorrências do primeiro elemento da lista\n",
    "- retorne a média dos elementos\n",
    "- retorne o valor mais próximo da média dos elementos\n",
    "- retorne a soma dos elementos com valor negativo\n",
    "- retorne a quantidade de vizinhos iguais"
   ]
  },
  {
   "cell_type": "code",
   "execution_count": 11,
   "metadata": {},
   "outputs": [
    {
     "name": "stdout",
     "output_type": "stream",
     "text": [
      "igual 4 4\n",
      "13\n",
      "65\n",
      "1\n",
      "3.823529411764706\n",
      "-20\n"
     ]
    }
   ],
   "source": [
    "\n",
    "lista  = [1, 2, 3, 4, 4,-4, 4, -5, 6, -2, 7, 8, -9, 10, 11, 12, 13]\n",
    "r = [i for i in lista if i < 0]\n",
    "cont = 0\n",
    "for x in range(0,len(lista)-1): \n",
    "    if(cont<len(lista)): \n",
    "        if(lista[x] == lista[x+1]): \n",
    "          print(\"igual\",lista[x],lista[x+1])   \n",
    "          cont = cont+1\n",
    "\n",
    "print(max(lista))\n",
    "print(sum(lista))\n",
    "print(lista.count(lista[0]))\n",
    "print(sum(lista)/len(lista))\n",
    "print(sum(r))\n",
    "\n"
   ]
  },
  {
   "cell_type": "markdown",
   "metadata": {},
   "source": [
    "14 Faça um programa que receba duas listas e retorne True se são iguais ou False\n",
    "caso contrario.\n",
    "Duas listas são iguais se possuem os mesmos valores e na mesma ordem."
   ]
  },
  {
   "cell_type": "code",
   "execution_count": 12,
   "metadata": {},
   "outputs": [
    {
     "name": "stdout",
     "output_type": "stream",
     "text": [
      "true\n"
     ]
    }
   ],
   "source": [
    "l1 = [1,2,3,4,5]\n",
    "l2 = [1,2,3,4,5]\n",
    "if l1 == l2:\n",
    "    print('true')\n",
    "else:\n",
    "    print('false')"
   ]
  },
  {
   "cell_type": "markdown",
   "metadata": {},
   "source": [
    "15 Faça um programa que receba duas listas e retorne True se têm os mesmos\n",
    "elementos ou False caso contrário\n",
    "Duas listas possuem os mesmos elementos quando são compostas pelos mesmos\n",
    "valores, mas não obrigatoriamente na mesma ordem."
   ]
  },
  {
   "cell_type": "code",
   "execution_count": 23,
   "metadata": {},
   "outputs": [
    {
     "name": "stdout",
     "output_type": "stream",
     "text": [
      "true\n"
     ]
    }
   ],
   "source": [
    "l1 = [1,2,3,4,5]\n",
    "l2 = [4,5,3,2,1]\n",
    "\n",
    "if x in l2 and l1:\n",
    "    print('true')\n",
    "else:\n",
    "    print('false')"
   ]
  },
  {
   "cell_type": "markdown",
   "metadata": {},
   "source": [
    "16 Faça um programa que percorre uma lista com o seguinte formato: [['Brasil',\n",
    "'Italia', [10, 9]], ['Brasil', 'Espanha', [5, 7]], ['Italia', 'Espanha', [7,8]]]. Essa lista indica o\n",
    "número de faltas que cada time fez em cada jogo. Na lista acima, no jogo entre Brasil\n",
    "e Itália, o Brasil fez 10 faltas e a Itália fez 9.\n",
    "O programa deve imprimir na tela:\n",
    "- o total de faltas do campeonato\n",
    "- o time que fez mais faltas\n",
    "- o time que fez menos faltas"
   ]
  },
  {
   "cell_type": "code",
   "execution_count": 3,
   "metadata": {},
   "outputs": [
    {
     "name": "stdout",
     "output_type": "stream",
     "text": [
      "Total de faltas: 46\n",
      "País mais faltoso: ['Italia', 16]\n",
      "País menos faltoso: ['Brasil', 15]\n"
     ]
    }
   ],
   "source": [
    "faltas = [['Brasil', 'Italia' ,[10,9]],\n",
    "          ['Brasil', 'Espanha',[5,7]],\n",
    "          ['Italia', 'Espanha',[7,8]]]\n",
    "print('Total de faltas:', faltas[0][2][0]+faltas[0][2][1]+\n",
    "faltas[1][2][0]+faltas[1][2][1]+\n",
    "faltas[2][2][0]+faltas[2][2][1])\n",
    "pais = [['Brasil',faltas[0][2][0]+faltas[1][2][0]],\n",
    "        ['Italia',faltas[0][2][1]+faltas[2][2][0]],\n",
    "        ['Espanha', faltas[1][2][1]+faltas[2][2][1]]]\n",
    "print('País mais faltoso:', max(pais))\n",
    "print('País menos faltoso:', min(pais))"
   ]
  },
  {
   "cell_type": "markdown",
   "metadata": {},
   "source": [
    "17 Escreva um programa que conta a quantidade de vogais em uma string e\n",
    "armazena tal quantidade em um dicionário, onde a chave é a vogal considerada."
   ]
  },
  {
   "cell_type": "code",
   "execution_count": 4,
   "metadata": {},
   "outputs": [
    {
     "name": "stdout",
     "output_type": "stream",
     "text": [
      "Digite uma frase\n",
      "{'a': 0, 'e': 0, 'i': 0, 'o': 0, 'u': 0}\n"
     ]
    }
   ],
   "source": [
    "s = input('Digite uma frase')\n",
    "vogais = ['a', 'e', 'i', 'o', 'u']\n",
    "totais = {vogais[0]: s.count(vogais[0]),\n",
    "          vogais[1]: s.count(vogais[1]),\n",
    "          vogais[2]: s.count(vogais[2]),\n",
    "          vogais[3]: s.count(vogais[3]),\n",
    "          vogais[4]: s.count(vogais[4])}\n",
    "print(totais)"
   ]
  },
  {
   "cell_type": "markdown",
   "metadata": {},
   "source": [
    "18 Escreva um programa que lê̂ duas notas de vários alunos e armazena tais notas\n",
    "em um dicionário, onde a chave é o nome do aluno. A entrada de dados deve\n",
    "terminar quando for lida uma string vazia como nome. Escreva uma função que\n",
    "retorna a média do aluno, dado seu nome"
   ]
  },
  {
   "cell_type": "code",
   "execution_count": 36,
   "metadata": {},
   "outputs": [
    {
     "name": "stdout",
     "output_type": "stream",
     "text": [
      "digite o nome do alunorenan\n",
      "6.0\n"
     ]
    }
   ],
   "source": [
    "a = ['renan' , 'pedro','']\n",
    "n = [[5,3,7,9],[6,4,7,8],[]]\n",
    "p = dict(zip(a,n))\n",
    "al = input('digite o nome do aluno')\n",
    "if al == '':\n",
    "    print('Obrigado por usar nosso sistema!')\n",
    "else:\n",
    "    aluno = n[a.index(al)]\n",
    "    media = sum(aluno)/len(aluno)\n",
    "    print(media)"
   ]
  },
  {
   "cell_type": "markdown",
   "metadata": {},
   "source": [
    "19 Uma pista de Kart permite 10 voltas para cada um de 6 corredores. Escreva um\n",
    "programa que leia todos os tempos em segundos e os guarde em um dicionário,\n",
    "onde a chave é o nome do corredor. Ao final diga de quem foi a melhor volta da\n",
    "prova e em que volta; e ainda a classificação final em ordem (1o o campeão). O\n",
    "campeão é o que tem a menor média de tempos."
   ]
  },
  {
   "cell_type": "code",
   "execution_count": 26,
   "metadata": {},
   "outputs": [
    {
     "name": "stdout",
     "output_type": "stream",
     "text": [
      "melhor tempo 48 na volta 3  corredor  juliano\n",
      "posicao 1  =  ('juliano', 59.9)\n",
      "posicao 2  =  ('bruno', 60.6)\n",
      "posicao 3  =  ('paulo', 60.8)\n",
      "posicao 4  =  ('renan', 61.2)\n",
      "posicao 5  =  ('marina', 61.6)\n",
      "posicao 6  =  ('leo', 63.8)\n"
     ]
    }
   ],
   "source": [
    "from operator import itemgetter, attrgetter\n",
    "dic = {\n",
    "    \"bruno\": [57, 58, 60, 56, 64, 70, 59, 58, 69, 55],\n",
    "    \"paulo\": [56, 60, 72, 50, 67, 58, 61, 63, 62, 59],\n",
    "    \"juliano\": [79, 52, 58, 48, 58, 59, 61, 65, 59, 60],\n",
    "    \"leo\": [56, 50, 55, 70, 85, 73, 68, 65, 56, 60],\n",
    "    \"renan\": [69, 55, 67, 50, 52, 53, 70, 75, 65, 56],\n",
    "    \"marina\": [56, 63, 63, 65, 70, 59, 55, 60, 63, 62]\n",
    "}\n",
    "nomes = list(dic)\n",
    "\n",
    "melhorVolta={\"volta\":0,\"tempo\":9999,\"nome\":''}\n",
    "media=dic.copy()\n",
    "\n",
    "for loop in range(len(dic)):\n",
    "  media[nomes[loop]] = sum(media[nomes[loop]])/10\n",
    "\n",
    "  for loop2 in range(len(dic[nomes[loop]])):\n",
    "    if(dic[nomes[loop]][loop2] < melhorVolta['tempo']):\n",
    "      melhorVolta['volta'] = loop2\n",
    "      melhorVolta['tempo'] = dic[nomes[loop]][loop2]\n",
    "      melhorVolta['nome'] = nomes[loop]\n",
    "\n",
    "print('melhor tempo', melhorVolta['tempo'],'na volta', melhorVolta['volta'],' corredor ', melhorVolta['nome'])\n",
    "dic3 =sorted(media.items(), key=itemgetter(1))\n",
    "cont = 0\n",
    "for i3 in range(len(dic3)):\n",
    "    cont += 1\n",
    "    print('posicao',cont,  ' = ',dic3[i3])\n"
   ]
  },
  {
   "cell_type": "markdown",
   "metadata": {},
   "source": [
    "20 Escreva um programa para armazenar uma agenda de telefones em um\n",
    "dicionário. Cada pessoa pode ter um ou mais telefones e a chave do dicionário é o\n",
    "nome da pessoa. Seu programa deve ter as seguintes funções:\n",
    "- incluirNovoNome – essa função acrescenta um novo nome na agenda, com um ou mais telefones. Ela deve receber como argumentos o nome e os telefones.\n",
    "- incluirTelefone – essa função acrescenta um telefone em um nome existente na agenda. Caso o nome não exista na agenda, você̂ deve perguntar se a pessoa deseja inclui-lo. Caso a resposta seja afirmativa, use a função anterior para incluir o novo nome.\n",
    "- excluirTelefone – essa função exclui um telefone de uma pessoa que já está na agenda. Se a pessoa tiver apenas um telefone, ela deve ser excluída da agenda.\n",
    "- excluirNome – essa função exclui uma pessoa da agenda.\n",
    "- consultarTelefone – essa função retorna os telefones de uma pessoa na agenda."
   ]
  },
  {
   "cell_type": "code",
   "execution_count": 39,
   "metadata": {},
   "outputs": [
    {
     "ename": "IndentationError",
     "evalue": "expected an indented block (<ipython-input-39-228344c2d73a>, line 3)",
     "output_type": "error",
     "traceback": [
      "\u001b[1;36m  File \u001b[1;32m\"<ipython-input-39-228344c2d73a>\"\u001b[1;36m, line \u001b[1;32m3\u001b[0m\n\u001b[1;33m    nome= input(\"Adicionar novo cont ato: \")\u001b[0m\n\u001b[1;37m       ^\u001b[0m\n\u001b[1;31mIndentationError\u001b[0m\u001b[1;31m:\u001b[0m expected an indented block\n"
     ]
    }
   ],
   "source": [
    "agenda={\"pedro\": [9921], \"Paulo \": [9785, 9834], \"João\": [5432], \"Ana\": [9876]} \n",
    "def incluir_nome():    \n",
    "    nome = input(\"Adicionar novo contato: \")   \n",
    "    numero = input(\"Adicionar numero  ao contato: \")    \n",
    "    if nome in agenda:      \n",
    "       print(\"Esse número já existe, modifique.\")   \n",
    "    else:     agenda[nome]=numero    \n",
    "    print (agenda) \n",
    "    incluir_nome()\n",
    "agenda={\"pedro\": [9921], \"Paulo\":  [9785, 9834], \"João\": [5432],  \"Ana\": [9876]} \n",
    "def novo_nome(nome):   \n",
    "    numero=input(\"Digite um número p ara o contato: \")    \n",
    "if nome in agenda.keys():      \n",
    "    teste=agenda[nome]      \n",
    "    teste.append(numero)      \n",
    "    agenda[nome]=teste    \n",
    "else:    \n",
    "    print(\"Nome não existe: \")      \n",
    "    print(agenda)\n",
    "    novo_nome(\"carlos\")   \n",
    "    \n",
    "    agenda={\"pedro\": [9921], \"Paulo\":  [9785, 9834], \"João\": [5432],  \"Ana\": [9876]} \n",
    "def excluirtelefone(nome):    \n",
    "        nome= input(\"Digite o nome do co ntato que deseja excluir: \")    \n",
    "        contato=agenda[nome]    \n",
    "        print(nome, \"-\", contato)   \n",
    "        apagarnumero= int(input(\"Di gite o número que você deseja apagar: \"))    \n",
    "if len (contato)==1:      \n",
    "            del agenda[nome]    \n",
    "elif len (contato) > 1:      \n",
    "        contato.remove(apagarnumero)      \n",
    "        print(contato)   \n",
    "        print(agenda)  \n",
    "        excluirtelefone(\"nome\") \n",
    "        agenda={\"pedro\": [9921], \"Paulo\":  [9785, 9834], \"João\": [5432],  \"Ana\": [9876]} \n",
    "def excluir_nome():    \n",
    "    nome= input (\"Digite o nome que  deseja excluir: \")    \n",
    "    del agenda[nome]    \n",
    "    print(agenda)  \n",
    "    excluir_nome()\n",
    "    \n",
    "    agenda={\"pedro\": [9921], \"Paulo\":  [9785, 9834], \"João\": [5432],  \"Ana\": [9876]} \n",
    "def consultartelefone(nome):    \n",
    "    nome=input(\"Digite o nome do con tato que deseja consultar: \")    \n",
    "    contato= agenda[nome]   \n",
    "    print(nome, \"=\", contato)  \n",
    "    consultartelefone(\"nome\") "
   ]
  },
  {
   "cell_type": "markdown",
   "metadata": {},
   "source": [
    "21 Faça um programa que leia um arquivo texto contendo uma lista de endereços IP\n",
    "e gere um outro arquivo, contendo um relatório dos endereços IP válidos e inválidos.\n",
    "O arquivo de entrada possui o seguinte formato:\n",
    "200.135.80.9\n",
    "192.168.1.1\n",
    "8.35.67.74\n",
    "257.32.4.5\n",
    "85.345.1.2\n",
    "1.2.3.4\n",
    "9.8.234.5\n",
    "192.168.0.256\n",
    "O arquivo de saída possui o seguinte formato:\n",
    "[Endereços válidos:]\n",
    "200.135.80.9\n",
    "192.168.1.1\n",
    "8.35.67.74\n",
    "1.2.3.4\n",
    "[Endereços inválidos:]\n",
    "257.32.4.5\n",
    "85.345.1.2\n",
    "9.8.234.5\n",
    "192.168.0.256"
   ]
  },
  {
   "cell_type": "code",
   "execution_count": null,
   "metadata": {},
   "outputs": [],
   "source": [
    "valido = list()\n",
    "invalido = list()\n",
    "for ip in open('lista_ip.txt', 'r'):\n",
    "    l_ip = ip.split('.')\n",
    "    #a função map aplica uma função (no caso, int) sobre\n",
    "    #cada elemento da lista\n",
    "    l_ip = list(map(int,l_ip))\n",
    "    if len(l_ip) != 4:\n",
    "        invalido.append(l_ip)\n",
    "    else:\n",
    "        for i in l_ip:\n",
    "            if i < 0 or i > 255:\n",
    "                invalido.append(l_ip)\n",
    "                break\n",
    "        else:\n",
    "            valido.append(l_ip)   \n",
    "print('[Endereços válidos]')\n",
    "for i in valido:\n",
    "    print(f'{i[0]}.{i[1]}.{i[2]}.{i[3]}')\n",
    "print('[Endereços inválidos]')\n",
    "for i in invalido:\n",
    "    print(f'{i[0]}.{i[1]}.{i[2]}.{i[3]}')"
   ]
  },
  {
   "cell_type": "markdown",
   "metadata": {},
   "source": [
    "22 A ACME Inc., uma empresa de 500 funcionários, está tendo problemas de espaço em disco no seu servidor de arquivos. Para tentar resolver este problema, o Administrador de Rede precisa saber qual o espaço ocupado pelos usuários, e identificar os usuários com maior espaço ocupado. Através de um programa, baixado da Internet, ele conseguiu gerar o seguinte arquivo, chamado \"usuarios.txt\": \n",
    " alexandre       456123789 anderson        1245698456 antonio         123456456 carlos          91257581 cesar           987458 rosemary        789456125 \n",
    " \n",
    "Neste arquivo, o nome do usuário possui 15 caracteres. A partir deste arquivo, você deve criar um programa que gere um relatório, chamado \"relatório.txt\", no seguinte formato: \n",
    " ACME Inc.               Uso do espaço em disco pelos usuários ----------------------------------------------------------------------- Nr.  Usuário        Espaço utilizado     % do uso \n",
    " 1    alexandre       434,99 MB             16,85% 2    anderson       1187,99 MB             46,02% 3    antonio         117,73 MB              4,56% 4    carlos           87,03 MB              3,37% 5    cesar             0,94 MB              0,04% 6    rosemary        752,88 MB             29,16% \n",
    " Espaço total ocupado: 2581,57 MB Espaço médio ocupado: 430,26 MB \n",
    " O arquivo de entrada deve ser lido uma única vez, e os dados armazenados em memória, caso sejam necessários, de forma a agilizar a execução do programa. A conversão da espaço ocupado em disco, de bytes para megabytes deverá ser feita através de uma função separada, que será chamada pelo programa principal. O cálculo do percentual de uso também deverá ser feito através de uma função, que será chamada pelo programa principal. "
   ]
  },
  {
   "cell_type": "code",
   "execution_count": 28,
   "metadata": {},
   "outputs": [
    {
     "ename": "FileNotFoundError",
     "evalue": "[Errno 2] No such file or directory: 'usuarios.txt'",
     "output_type": "error",
     "traceback": [
      "\u001b[1;31m---------------------------------------------------------------------------\u001b[0m",
      "\u001b[1;31mFileNotFoundError\u001b[0m                         Traceback (most recent call last)",
      "\u001b[1;32m<ipython-input-28-9e518021a5f8>\u001b[0m in \u001b[0;36m<module>\u001b[1;34m\u001b[0m\n\u001b[0;32m     19\u001b[0m \u001b[0mposicao\u001b[0m \u001b[1;33m=\u001b[0m \u001b[1;36m1\u001b[0m\u001b[1;33m\u001b[0m\u001b[1;33m\u001b[0m\u001b[0m\n\u001b[0;32m     20\u001b[0m \u001b[0mtotal\u001b[0m \u001b[1;33m=\u001b[0m \u001b[0mmedia\u001b[0m \u001b[1;33m=\u001b[0m \u001b[1;36m0\u001b[0m\u001b[1;33m\u001b[0m\u001b[1;33m\u001b[0m\u001b[0m\n\u001b[1;32m---> 21\u001b[1;33m \u001b[1;32mwith\u001b[0m \u001b[0mopen\u001b[0m \u001b[1;33m(\u001b[0m\u001b[1;34m\"usuarios.txt\"\u001b[0m\u001b[1;33m,\u001b[0m\u001b[1;34m\"r\"\u001b[0m\u001b[1;33m)\u001b[0m \u001b[1;32mas\u001b[0m \u001b[0marquivo\u001b[0m\u001b[1;33m:\u001b[0m\u001b[1;33m\u001b[0m\u001b[1;33m\u001b[0m\u001b[0m\n\u001b[0m\u001b[0;32m     22\u001b[0m    \u001b[0mvalor\u001b[0m \u001b[1;33m=\u001b[0m \u001b[1;36m0\u001b[0m\u001b[1;33m\u001b[0m\u001b[1;33m\u001b[0m\u001b[0m\n\u001b[0;32m     23\u001b[0m    \u001b[1;32mfor\u001b[0m \u001b[0mlinha\u001b[0m \u001b[1;32min\u001b[0m \u001b[0marquivo\u001b[0m\u001b[1;33m:\u001b[0m\u001b[1;33m\u001b[0m\u001b[1;33m\u001b[0m\u001b[0m\n",
      "\u001b[1;31mFileNotFoundError\u001b[0m: [Errno 2] No such file or directory: 'usuarios.txt'"
     ]
    }
   ],
   "source": [
    "def toMB(tamanhoEmBytes):\n",
    "   tamanhoEmBytes = float(tamanhoEmBytes)\n",
    "   return (float(tamanhoEmBytes/(1024*1024)))\n",
    "   \n",
    "def percentualPorUsuario(lista, total):\n",
    "   percentual = (lista[3]/total)*100\n",
    "   #percentual = \"{0:.2f}\".format(percentual)\n",
    "   lista.insert((len(cadaUsuario)),percentual)\n",
    "\n",
    "def espacoMedioOcupado(lista, total):\n",
    "   media = 0\n",
    "   elementos = len(lista)\n",
    "   media = (total)/(elementos+1)\n",
    "   #media = \"{0:.2f}\".format(media)\n",
    "   return media\n",
    "\n",
    "#MAIN\n",
    "usuarios = []\n",
    "posicao = 1\n",
    "total = media = 0\n",
    "with open (\"usuarios.txt\",\"r\") as arquivo:\n",
    "   valor = 0\n",
    "   for linha in arquivo:\n",
    "      usuarios.append(linha.split()) \n",
    "\n",
    "   for cadaUsuario in usuarios:\n",
    "      cadaUsuario.insert(0,posicao)\n",
    "      valor = toMB(float(cadaUsuario[2]))\n",
    "      total += valor\n",
    "      cadaUsuario.insert((len(cadaUsuario)),valor)\n",
    "      posicao+=1\n",
    "\n",
    "   for cadaUsuario in usuarios:\n",
    "      percentualPorUsuario(cadaUsuario, total)\n",
    "\n",
    "media = espacoMedioOcupado(cadaUsuario,total)\n",
    "\n",
    "with open (\"relatorio.txt\",\"w\") as arquivo:\n",
    "   arquivo.write(\"ACME Inc.               Uso do espaço em disco pelos usuários.\\n\")\n",
    "   arquivo.write(\"--------------------------------------------------------------\\n\")\n",
    "   arquivo.write(\"Nr.\\tUsuário        \\tEspaço utilizado\\t% do uso\\n\\n\")\n",
    "\n",
    "   for cadaUsuario in usuarios:\n",
    "      percentagem=\"{0:.2f}\".format(round(cadaUsuario[3],2))\n",
    "      arquivo.write(str(cadaUsuario[0])+'\\t'+\"{:<15}\".format(cadaUsuario[1])+'\\t'+\"{:<16}\".format(percentagem)+'MB'+'\\t'+\"{0:.2f}\".format(cadaUsuario[4])+'%'+'\\n')\n",
    "\n",
    "   arquivo.write('\\n\\nEspaço Total Ocupado: ' + \"{0:.2f}\".format(total) + ' MB')\n",
    "   arquivo.write('\\n\\nEspaço médio Ocupado: ' + \"{0:.2f}\".format(media) + ' MB')\n",
    "   arquivo.close()\n",
    "\n",
    "with open (\"relatorio.txt\",\"r\") as arquivo:\n",
    "   print(arquivo.read())"
   ]
  },
  {
   "cell_type": "code",
   "execution_count": null,
   "metadata": {},
   "outputs": [],
   "source": []
  }
 ],
 "metadata": {
  "kernelspec": {
   "display_name": "Python 3",
   "language": "python",
   "name": "python3"
  },
  "language_info": {
   "codemirror_mode": {
    "name": "ipython",
    "version": 3
   },
   "file_extension": ".py",
   "mimetype": "text/x-python",
   "name": "python",
   "nbconvert_exporter": "python",
   "pygments_lexer": "ipython3",
   "version": "3.7.3"
  }
 },
 "nbformat": 4,
 "nbformat_minor": 2
}
